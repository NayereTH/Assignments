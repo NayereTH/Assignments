{
 "cells": [
  {
   "cell_type": "code",
   "execution_count": 1,
   "metadata": {},
   "outputs": [],
   "source": [
    "import numpy as np\n",
    "import pandas as pd\n",
    "\n",
    "# For visualization\n",
    "import matplotlib.pyplot as plt\n",
    "%matplotlib inline\n",
    "import seaborn as sns\n",
    "pd.options.display.max_rows = None\n",
    "pd.options.display.max_columns = None"
   ]
  },
  {
   "cell_type": "code",
   "execution_count": 2,
   "metadata": {},
   "outputs": [
    {
     "data": {
      "text/plain": [
       "(10000, 14)"
      ]
     },
     "execution_count": 2,
     "metadata": {},
     "output_type": "execute_result"
    }
   ],
   "source": [
    "df = pd.read_csv(\"C:\\\\Users\\\\Joe\\\\Downloads\\\\Churn_Modelling - Churn_Modelling.csv\", delimiter=',')\n",
    "df.shape"
   ]
  },
  {
   "cell_type": "code",
   "execution_count": 3,
   "metadata": {},
   "outputs": [
    {
     "data": {
      "text/plain": [
       "RowNumber          0\n",
       "CustomerId         0\n",
       "Surname            0\n",
       "CreditScore        0\n",
       "Geography          0\n",
       "Gender             0\n",
       "Age                0\n",
       "Tenure             0\n",
       "Balance            0\n",
       "NumOfProducts      0\n",
       "HasCrCard          0\n",
       "IsActiveMember     0\n",
       "EstimatedSalary    0\n",
       "Exited             0\n",
       "dtype: int64"
      ]
     },
     "execution_count": 3,
     "metadata": {},
     "output_type": "execute_result"
    }
   ],
   "source": [
    "df.isnull().sum()"
   ]
  },
  {
   "cell_type": "code",
   "execution_count": 4,
   "metadata": {},
   "outputs": [
    {
     "data": {
      "text/plain": [
       "RowNumber            int64\n",
       "CustomerId           int64\n",
       "Surname             object\n",
       "CreditScore          int64\n",
       "Geography           object\n",
       "Gender              object\n",
       "Age                  int64\n",
       "Tenure               int64\n",
       "Balance            float64\n",
       "NumOfProducts        int64\n",
       "HasCrCard            int64\n",
       "IsActiveMember       int64\n",
       "EstimatedSalary    float64\n",
       "Exited               int64\n",
       "dtype: object"
      ]
     },
     "execution_count": 4,
     "metadata": {},
     "output_type": "execute_result"
    }
   ],
   "source": [
    "df.dtypes"
   ]
  },
  {
   "cell_type": "code",
   "execution_count": 5,
   "metadata": {},
   "outputs": [
    {
     "data": {
      "text/plain": [
       "RowNumber          10000\n",
       "CustomerId         10000\n",
       "Surname             2932\n",
       "CreditScore          460\n",
       "Geography              3\n",
       "Gender                 2\n",
       "Age                   70\n",
       "Tenure                11\n",
       "Balance             6382\n",
       "NumOfProducts          4\n",
       "HasCrCard              2\n",
       "IsActiveMember         2\n",
       "EstimatedSalary     9999\n",
       "Exited                 2\n",
       "dtype: int64"
      ]
     },
     "execution_count": 5,
     "metadata": {},
     "output_type": "execute_result"
    }
   ],
   "source": [
    "df.nunique()"
   ]
  },
  {
   "cell_type": "code",
   "execution_count": 6,
   "metadata": {},
   "outputs": [],
   "source": [
    "df = df.drop([\"RowNumber\", \"CustomerId\", \"Surname\"], axis = 1)"
   ]
  },
  {
   "cell_type": "code",
   "execution_count": 7,
   "metadata": {},
   "outputs": [
    {
     "data": {
      "text/html": [
       "<div>\n",
       "<style scoped>\n",
       "    .dataframe tbody tr th:only-of-type {\n",
       "        vertical-align: middle;\n",
       "    }\n",
       "\n",
       "    .dataframe tbody tr th {\n",
       "        vertical-align: top;\n",
       "    }\n",
       "\n",
       "    .dataframe thead th {\n",
       "        text-align: right;\n",
       "    }\n",
       "</style>\n",
       "<table border=\"1\" class=\"dataframe\">\n",
       "  <thead>\n",
       "    <tr style=\"text-align: right;\">\n",
       "      <th></th>\n",
       "      <th>CreditScore</th>\n",
       "      <th>Geography</th>\n",
       "      <th>Gender</th>\n",
       "      <th>Age</th>\n",
       "      <th>Tenure</th>\n",
       "      <th>Balance</th>\n",
       "      <th>NumOfProducts</th>\n",
       "      <th>HasCrCard</th>\n",
       "      <th>IsActiveMember</th>\n",
       "      <th>EstimatedSalary</th>\n",
       "      <th>Exited</th>\n",
       "    </tr>\n",
       "  </thead>\n",
       "  <tbody>\n",
       "    <tr>\n",
       "      <td>0</td>\n",
       "      <td>619</td>\n",
       "      <td>France</td>\n",
       "      <td>Female</td>\n",
       "      <td>42</td>\n",
       "      <td>2</td>\n",
       "      <td>0.00</td>\n",
       "      <td>1</td>\n",
       "      <td>1</td>\n",
       "      <td>1</td>\n",
       "      <td>101348.88</td>\n",
       "      <td>1</td>\n",
       "    </tr>\n",
       "    <tr>\n",
       "      <td>1</td>\n",
       "      <td>608</td>\n",
       "      <td>Spain</td>\n",
       "      <td>Female</td>\n",
       "      <td>41</td>\n",
       "      <td>1</td>\n",
       "      <td>83807.86</td>\n",
       "      <td>1</td>\n",
       "      <td>0</td>\n",
       "      <td>1</td>\n",
       "      <td>112542.58</td>\n",
       "      <td>0</td>\n",
       "    </tr>\n",
       "    <tr>\n",
       "      <td>2</td>\n",
       "      <td>502</td>\n",
       "      <td>France</td>\n",
       "      <td>Female</td>\n",
       "      <td>42</td>\n",
       "      <td>8</td>\n",
       "      <td>159660.80</td>\n",
       "      <td>3</td>\n",
       "      <td>1</td>\n",
       "      <td>0</td>\n",
       "      <td>113931.57</td>\n",
       "      <td>1</td>\n",
       "    </tr>\n",
       "    <tr>\n",
       "      <td>3</td>\n",
       "      <td>699</td>\n",
       "      <td>France</td>\n",
       "      <td>Female</td>\n",
       "      <td>39</td>\n",
       "      <td>1</td>\n",
       "      <td>0.00</td>\n",
       "      <td>2</td>\n",
       "      <td>0</td>\n",
       "      <td>0</td>\n",
       "      <td>93826.63</td>\n",
       "      <td>0</td>\n",
       "    </tr>\n",
       "    <tr>\n",
       "      <td>4</td>\n",
       "      <td>850</td>\n",
       "      <td>Spain</td>\n",
       "      <td>Female</td>\n",
       "      <td>43</td>\n",
       "      <td>2</td>\n",
       "      <td>125510.82</td>\n",
       "      <td>1</td>\n",
       "      <td>1</td>\n",
       "      <td>1</td>\n",
       "      <td>79084.10</td>\n",
       "      <td>0</td>\n",
       "    </tr>\n",
       "  </tbody>\n",
       "</table>\n",
       "</div>"
      ],
      "text/plain": [
       "   CreditScore Geography  Gender  Age  Tenure    Balance  NumOfProducts  \\\n",
       "0          619    France  Female   42       2       0.00              1   \n",
       "1          608     Spain  Female   41       1   83807.86              1   \n",
       "2          502    France  Female   42       8  159660.80              3   \n",
       "3          699    France  Female   39       1       0.00              2   \n",
       "4          850     Spain  Female   43       2  125510.82              1   \n",
       "\n",
       "   HasCrCard  IsActiveMember  EstimatedSalary  Exited  \n",
       "0          1               1        101348.88       1  \n",
       "1          0               1        112542.58       0  \n",
       "2          1               0        113931.57       1  \n",
       "3          0               0         93826.63       0  \n",
       "4          1               1         79084.10       0  "
      ]
     },
     "execution_count": 7,
     "metadata": {},
     "output_type": "execute_result"
    }
   ],
   "source": [
    "df.head()"
   ]
  },
  {
   "cell_type": "code",
   "execution_count": 8,
   "metadata": {},
   "outputs": [
    {
     "data": {
      "text/plain": [
       "CreditScore          int64\n",
       "Geography           object\n",
       "Gender              object\n",
       "Age                  int64\n",
       "Tenure               int64\n",
       "Balance            float64\n",
       "NumOfProducts        int64\n",
       "HasCrCard            int64\n",
       "IsActiveMember       int64\n",
       "EstimatedSalary    float64\n",
       "Exited               int64\n",
       "dtype: object"
      ]
     },
     "execution_count": 8,
     "metadata": {},
     "output_type": "execute_result"
    }
   ],
   "source": [
    "df.dtypes"
   ]
  },
  {
   "cell_type": "code",
   "execution_count": 9,
   "metadata": {},
   "outputs": [
    {
     "data": {
      "text/plain": [
       "<matplotlib.axes._subplots.AxesSubplot at 0x1419509ae88>"
      ]
     },
     "execution_count": 9,
     "metadata": {},
     "output_type": "execute_result"
    },
    {
     "data": {
      "image/png": "[encoded data removed]",
      "text/plain": [
       "<Figure size 432x288 with 2 Axes>"
      ]
     },
     "metadata": {
      "needs_background": "light"
     },
     "output_type": "display_data"
    }
   ],
   "source": [
    "import seaborn as sns\n",
    "#sns.heatmap(df11.drop([\"kitchen_features\",\"fireplaces\",\"floor_covering\"], axis=1), linewidths=0.5)\n",
    "corr= df.corr()\n",
    "\n",
    "sns.heatmap(corr,linewidths=0.5,cmap=\"viridis\")"
   ]
  },
  {
   "cell_type": "code",
   "execution_count": 10,
   "metadata": {},
   "outputs": [
    {
     "data": {
      "text/plain": [
       "Exited             1.000000\n",
       "Age                0.285323\n",
       "Balance            0.118533\n",
       "EstimatedSalary    0.012097\n",
       "HasCrCard         -0.007138\n",
       "Tenure            -0.014001\n",
       "CreditScore       -0.027094\n",
       "NumOfProducts     -0.047820\n",
       "IsActiveMember    -0.156128\n",
       "Name: Exited, dtype: float64"
      ]
     },
     "execution_count": 10,
     "metadata": {},
     "output_type": "execute_result"
    }
   ],
   "source": [
    "corr.sort_values(by=['Exited'],ascending=False).iloc[0].sort_values(ascending=False)"
   ]
  },
  {
   "cell_type": "code",
   "execution_count": 11,
   "metadata": {},
   "outputs": [
    {
     "data": {
      "image/png": "[encoded data removed]",
      "text/plain": [
       "<Figure size 720x576 with 1 Axes>"
      ]
     },
     "metadata": {},
     "output_type": "display_data"
    }
   ],
   "source": [
    "labels = '1=Exited', '0=Continued'\n",
    "sizes = [df.Exited[df['Exited']==1].count(), df.Exited[df['Exited']==0].count()]\n",
    "fig1, ax1 = plt.subplots(figsize=(10, 8))\n",
    "ax1.pie(sizes, labels=labels, autopct='%1.1f%%',\n",
    "        shadow=True, startangle=90, textprops={'fontsize': 20} )\n",
    "ax1.axis('equal')\n",
    "plt.show()"
   ]
  },
  {
   "cell_type": "code",
   "execution_count": 12,
   "metadata": {},
   "outputs": [
    {
     "data": {
      "text/plain": [
       "\"\\nprint(df.Exited.value_counts())\\n#sns.set_theme(style='darkgrid')\\nax = sns.countplot(data=df,x='Exited')\\n\""
      ]
     },
     "execution_count": 12,
     "metadata": {},
     "output_type": "execute_result"
    }
   ],
   "source": [
    "\"\"\"\n",
    "print(df.Exited.value_counts())\n",
    "#sns.set_theme(style='darkgrid')\n",
    "ax = sns.countplot(data=df,x='Exited')\n",
    "\"\"\""
   ]
  },
  {
   "cell_type": "code",
   "execution_count": 2,
   "metadata": {},
   "outputs": [
    {
     "data": {
      "text/plain": [
       "'\\nfig, axarr = plt.subplots(2, 2, figsize=(20, 12))\\nP=sns.countplot(x=\\'Geography\\', hue = \\'Exited\\',data = df, ax=axarr[0][0])\\n\\nP.set_xlabel(\\'Geography\\',fontsize=20, fontweight=\"bold\")\\nP.set_ylabel(\\'count\\',fontsize=20, fontweight=\"bold\")\\nP.set_xticklabels(P.get_xticklabels(),fontsize=14, fontweight=\"bold\")\\n\\nY=sns.countplot(x=\\'Gender\\', hue = \\'Exited\\',data = df, ax=axarr[0][1])\\nY.set_xlabel(\\'Gender\\',fontsize=20, fontweight=\"bold\")\\nY.set_ylabel(\\'count\\',fontsize=20, fontweight=\"bold\")\\nP.set_xticklabels(P.get_xticklabels(),fontsize=14, fontweight=\"bold\")\\n\\nsns.countplot(x=\\'HasCrCard\\', hue = \\'Exited\\',data = df, ax=axarr[1][0])\\nsns.countplot(x=\\'IsActiveMember\\', hue = \\'Exited\\',data = df, ax=axarr[1][1])\\n\\n'"
      ]
     },
     "execution_count": 2,
     "metadata": {},
     "output_type": "execute_result"
    }
   ],
   "source": [
    "\"\"\"\n",
    "fig, axarr = plt.subplots(2, 2, figsize=(20, 12))\n",
    "P=sns.countplot(x='Geography', hue = 'Exited',data = df, ax=axarr[0][0])\n",
    "\n",
    "P.set_xlabel('Geography',fontsize=20, fontweight=\"bold\")\n",
    "P.set_ylabel('count',fontsize=20, fontweight=\"bold\")\n",
    "P.set_xticklabels(P.get_xticklabels(),fontsize=14, fontweight=\"bold\")\n",
    "\n",
    "Y=sns.countplot(x='Gender', hue = 'Exited',data = df, ax=axarr[0][1])\n",
    "Y.set_xlabel('Gender',fontsize=20, fontweight=\"bold\")\n",
    "Y.set_ylabel('count',fontsize=20, fontweight=\"bold\")\n",
    "P.set_xticklabels(P.get_xticklabels(),fontsize=14, fontweight=\"bold\")\n",
    "\n",
    "sns.countplot(x='HasCrCard', hue = 'Exited',data = df, ax=axarr[1][0])\n",
    "sns.countplot(x='IsActiveMember', hue = 'Exited',data = df, ax=axarr[1][1])\n",
    "\n",
    "\"\"\"\n"
   ]
  },
  {
   "cell_type": "code",
   "execution_count": null,
   "metadata": {},
   "outputs": [],
   "source": []
  },
  {
   "cell_type": "code",
   "execution_count": 1,
   "metadata": {},
   "outputs": [
    {
     "data": {
      "text/plain": [
       "'\\nfig, axarr = plt.subplots(3, 2, figsize=(20, 12))\\nsns.boxplot(y=\\'CreditScore\\',x = \\'Exited\\', hue = \\'Exited\\',data = df, ax=axarr[0][0])\\n\\nA=sns.boxplot(y=\\'Age\\',x = \\'Exited\\', hue = \\'Exited\\',data = df , ax=axarr[0][1])\\nA.set_xlabel(\\'Exited\\',fontsize=20, fontweight=\"bold\")\\nA.set_ylabel(\\'Age\\',fontsize=20, fontweight=\"bold\")\\n#A.set_xticklabels(P.get_xticklabels(),fontsize=14, fontweight=\"bold\")\\n\\n\\nsns.boxplot(y=\\'Tenure\\',x = \\'Exited\\', hue = \\'Exited\\',data = df, ax=axarr[1][0])\\n\\nB=sns.boxplot(y=\\'Balance\\',x = \\'Exited\\', hue = \\'Exited\\',data = df, ax=axarr[1][1])\\nB.set_xlabel(\\'Exited\\',fontsize=20, fontweight=\"bold\")\\nB.set_ylabel(\\'Balance\\',fontsize=20, fontweight=\"bold\")\\n#A.set_xticklabels(P.get_xticklabels(),fontsize=14, fontweight=\"bold\")\\n\\nsns.boxplot(y=\\'NumOfProducts\\',x = \\'Exited\\', hue = \\'Exited\\',data = df, ax=axarr[2][0])\\nsns.boxplot(y=\\'EstimatedSalary\\',x = \\'Exited\\', hue = \\'Exited\\',data = df, ax=axarr[2][1])\\n'"
      ]
     },
     "execution_count": 1,
     "metadata": {},
     "output_type": "execute_result"
    }
   ],
   "source": [
    "\"\"\"\n",
    "fig, axarr = plt.subplots(3, 2, figsize=(20, 12))\n",
    "sns.boxplot(y='CreditScore',x = 'Exited', hue = 'Exited',data = df, ax=axarr[0][0])\n",
    "\n",
    "A=sns.boxplot(y='Age',x = 'Exited', hue = 'Exited',data = df , ax=axarr[0][1])\n",
    "A.set_xlabel('Exited',fontsize=20, fontweight=\"bold\")\n",
    "A.set_ylabel('Age',fontsize=20, fontweight=\"bold\")\n",
    "#A.set_xticklabels(P.get_xticklabels(),fontsize=14, fontweight=\"bold\")\n",
    "\n",
    "\n",
    "sns.boxplot(y='Tenure',x = 'Exited', hue = 'Exited',data = df, ax=axarr[1][0])\n",
    "\n",
    "B=sns.boxplot(y='Balance',x = 'Exited', hue = 'Exited',data = df, ax=axarr[1][1])\n",
    "B.set_xlabel('Exited',fontsize=20, fontweight=\"bold\")\n",
    "B.set_ylabel('Balance',fontsize=20, fontweight=\"bold\")\n",
    "#A.set_xticklabels(P.get_xticklabels(),fontsize=14, fontweight=\"bold\")\n",
    "\n",
    "sns.boxplot(y='NumOfProducts',x = 'Exited', hue = 'Exited',data = df, ax=axarr[2][0])\n",
    "sns.boxplot(y='EstimatedSalary',x = 'Exited', hue = 'Exited',data = df, ax=axarr[2][1])\n",
    "\"\"\""
   ]
  },
  {
   "cell_type": "code",
   "execution_count": 15,
   "metadata": {},
   "outputs": [],
   "source": [
    "df['CreditScore/Age'] = df.CreditScore/(df.Age)"
   ]
  },
  {
   "cell_type": "code",
   "execution_count": 3,
   "metadata": {},
   "outputs": [
    {
     "ename": "NameError",
     "evalue": "name 'df' is not defined",
     "output_type": "error",
     "traceback": [
      "\u001b[1;31m---------------------------------------------------------------------------\u001b[0m",
      "\u001b[1;31mNameError\u001b[0m                                 Traceback (most recent call last)",
      "\u001b[1;32m<ipython-input-3-b74ed93b88c3>\u001b[0m in \u001b[0;36m<module>\u001b[1;34m\u001b[0m\n\u001b[1;32m----> 1\u001b[1;33m \u001b[0mdf\u001b[0m\u001b[1;33m[\u001b[0m\u001b[1;34m'Balance/Salary'\u001b[0m\u001b[1;33m]\u001b[0m \u001b[1;33m=\u001b[0m \u001b[0mdf\u001b[0m\u001b[1;33m.\u001b[0m\u001b[0mBalance\u001b[0m\u001b[1;33m/\u001b[0m\u001b[0mdf\u001b[0m\u001b[1;33m.\u001b[0m\u001b[0mEstimatedSalary\u001b[0m\u001b[1;33m\u001b[0m\u001b[1;33m\u001b[0m\u001b[0m\n\u001b[0m\u001b[0;32m      2\u001b[0m \u001b[0msns\u001b[0m\u001b[1;33m.\u001b[0m\u001b[0mboxplot\u001b[0m\u001b[1;33m(\u001b[0m\u001b[0my\u001b[0m\u001b[1;33m=\u001b[0m\u001b[1;34m'Balance/Salary'\u001b[0m\u001b[1;33m,\u001b[0m\u001b[0mx\u001b[0m \u001b[1;33m=\u001b[0m \u001b[1;34m'Exited'\u001b[0m\u001b[1;33m,\u001b[0m \u001b[0mhue\u001b[0m \u001b[1;33m=\u001b[0m \u001b[1;34m'Exited'\u001b[0m\u001b[1;33m,\u001b[0m\u001b[0mdata\u001b[0m \u001b[1;33m=\u001b[0m \u001b[0mdf\u001b[0m\u001b[1;33m)\u001b[0m\u001b[1;33m\u001b[0m\u001b[1;33m\u001b[0m\u001b[0m\n\u001b[0;32m      3\u001b[0m \u001b[1;31m#plt.ylim(-1, 5)\u001b[0m\u001b[1;33m\u001b[0m\u001b[1;33m\u001b[0m\u001b[1;33m\u001b[0m\u001b[0m\n",
      "\u001b[1;31mNameError\u001b[0m: name 'df' is not defined"
     ]
    }
   ],
   "source": [
    "df['Balance/Salary'] = df.Balance/df.EstimatedSalary\n",
    "sns.boxplot(y='Balance/Salary',x = 'Exited', hue = 'Exited',data = df)\n",
    "#plt.ylim(-1, 5)"
   ]
  },
  {
   "cell_type": "code",
   "execution_count": 17,
   "metadata": {},
   "outputs": [
    {
     "data": {
      "text/plain": [
       "<matplotlib.axes._subplots.AxesSubplot at 0x14195b4e588>"
      ]
     },
     "execution_count": 17,
     "metadata": {},
     "output_type": "execute_result"
    },
    {
     "data": {
      "image/png": "[encoded data removed]",
      "text/plain": [
       "<Figure size 432x288 with 2 Axes>"
      ]
     },
     "metadata": {
      "needs_background": "light"
     },
     "output_type": "display_data"
    }
   ],
   "source": [
    "import seaborn as sns\n",
    "\n",
    "corr= df.corr()\n",
    "\n",
    "sns.heatmap(corr,linewidths=0.5,cmap=\"viridis\")"
   ]
  },
  {
   "cell_type": "code",
   "execution_count": 18,
   "metadata": {},
   "outputs": [
    {
     "data": {
      "text/plain": [
       "Exited             1.000000\n",
       "Age                0.285323\n",
       "Balance            0.118533\n",
       "Balance/Salary     0.025558\n",
       "EstimatedSalary    0.012097\n",
       "HasCrCard         -0.007138\n",
       "Tenure            -0.014001\n",
       "CreditScore       -0.027094\n",
       "NumOfProducts     -0.047820\n",
       "IsActiveMember    -0.156128\n",
       "CreditScore/Age   -0.253437\n",
       "Name: Exited, dtype: float64"
      ]
     },
     "execution_count": 18,
     "metadata": {},
     "output_type": "execute_result"
    }
   ],
   "source": [
    "corr.sort_values(by=['Exited'],ascending=False).iloc[0].sort_values(ascending=False)"
   ]
  },
  {
   "cell_type": "code",
   "execution_count": 19,
   "metadata": {},
   "outputs": [
    {
     "data": {
      "text/html": [
       "<div>\n",
       "<style scoped>\n",
       "    .dataframe tbody tr th:only-of-type {\n",
       "        vertical-align: middle;\n",
       "    }\n",
       "\n",
       "    .dataframe tbody tr th {\n",
       "        vertical-align: top;\n",
       "    }\n",
       "\n",
       "    .dataframe thead th {\n",
       "        text-align: right;\n",
       "    }\n",
       "</style>\n",
       "<table border=\"1\" class=\"dataframe\">\n",
       "  <thead>\n",
       "    <tr style=\"text-align: right;\">\n",
       "      <th></th>\n",
       "      <th>Exited</th>\n",
       "      <th>CreditScore</th>\n",
       "      <th>Age</th>\n",
       "      <th>Tenure</th>\n",
       "      <th>Balance</th>\n",
       "      <th>NumOfProducts</th>\n",
       "      <th>EstimatedSalary</th>\n",
       "      <th>Balance/Salary</th>\n",
       "      <th>CreditScore/Age</th>\n",
       "      <th>HasCrCard</th>\n",
       "      <th>IsActiveMember</th>\n",
       "      <th>Geography</th>\n",
       "      <th>Gender</th>\n",
       "    </tr>\n",
       "  </thead>\n",
       "  <tbody>\n",
       "    <tr>\n",
       "      <td>0</td>\n",
       "      <td>1</td>\n",
       "      <td>619</td>\n",
       "      <td>42</td>\n",
       "      <td>2</td>\n",
       "      <td>0.00</td>\n",
       "      <td>1</td>\n",
       "      <td>101348.88</td>\n",
       "      <td>0.000000</td>\n",
       "      <td>14.738095</td>\n",
       "      <td>1</td>\n",
       "      <td>1</td>\n",
       "      <td>France</td>\n",
       "      <td>Female</td>\n",
       "    </tr>\n",
       "    <tr>\n",
       "      <td>1</td>\n",
       "      <td>0</td>\n",
       "      <td>608</td>\n",
       "      <td>41</td>\n",
       "      <td>1</td>\n",
       "      <td>83807.86</td>\n",
       "      <td>1</td>\n",
       "      <td>112542.58</td>\n",
       "      <td>0.744677</td>\n",
       "      <td>14.829268</td>\n",
       "      <td>0</td>\n",
       "      <td>1</td>\n",
       "      <td>Spain</td>\n",
       "      <td>Female</td>\n",
       "    </tr>\n",
       "    <tr>\n",
       "      <td>2</td>\n",
       "      <td>1</td>\n",
       "      <td>502</td>\n",
       "      <td>42</td>\n",
       "      <td>8</td>\n",
       "      <td>159660.80</td>\n",
       "      <td>3</td>\n",
       "      <td>113931.57</td>\n",
       "      <td>1.401375</td>\n",
       "      <td>11.952381</td>\n",
       "      <td>1</td>\n",
       "      <td>0</td>\n",
       "      <td>France</td>\n",
       "      <td>Female</td>\n",
       "    </tr>\n",
       "    <tr>\n",
       "      <td>3</td>\n",
       "      <td>0</td>\n",
       "      <td>699</td>\n",
       "      <td>39</td>\n",
       "      <td>1</td>\n",
       "      <td>0.00</td>\n",
       "      <td>2</td>\n",
       "      <td>93826.63</td>\n",
       "      <td>0.000000</td>\n",
       "      <td>17.923077</td>\n",
       "      <td>0</td>\n",
       "      <td>0</td>\n",
       "      <td>France</td>\n",
       "      <td>Female</td>\n",
       "    </tr>\n",
       "    <tr>\n",
       "      <td>4</td>\n",
       "      <td>0</td>\n",
       "      <td>850</td>\n",
       "      <td>43</td>\n",
       "      <td>2</td>\n",
       "      <td>125510.82</td>\n",
       "      <td>1</td>\n",
       "      <td>79084.10</td>\n",
       "      <td>1.587055</td>\n",
       "      <td>19.767442</td>\n",
       "      <td>1</td>\n",
       "      <td>1</td>\n",
       "      <td>Spain</td>\n",
       "      <td>Female</td>\n",
       "    </tr>\n",
       "  </tbody>\n",
       "</table>\n",
       "</div>"
      ],
      "text/plain": [
       "   Exited  CreditScore  Age  Tenure    Balance  NumOfProducts  \\\n",
       "0       1          619   42       2       0.00              1   \n",
       "1       0          608   41       1   83807.86              1   \n",
       "2       1          502   42       8  159660.80              3   \n",
       "3       0          699   39       1       0.00              2   \n",
       "4       0          850   43       2  125510.82              1   \n",
       "\n",
       "   EstimatedSalary  Balance/Salary  CreditScore/Age  HasCrCard  \\\n",
       "0        101348.88        0.000000        14.738095          1   \n",
       "1        112542.58        0.744677        14.829268          0   \n",
       "2        113931.57        1.401375        11.952381          1   \n",
       "3         93826.63        0.000000        17.923077          0   \n",
       "4         79084.10        1.587055        19.767442          1   \n",
       "\n",
       "   IsActiveMember Geography  Gender  \n",
       "0               1    France  Female  \n",
       "1               1     Spain  Female  \n",
       "2               0    France  Female  \n",
       "3               0    France  Female  \n",
       "4               1     Spain  Female  "
      ]
     },
     "execution_count": 19,
     "metadata": {},
     "output_type": "execute_result"
    }
   ],
   "source": [
    "continuous_vars = ['CreditScore',  'Age', 'Tenure', 'Balance','NumOfProducts', 'EstimatedSalary', 'Balance/Salary','CreditScore/Age']\n",
    "cat_vars = ['HasCrCard', 'IsActiveMember','Geography', 'Gender']\n",
    "df = df[['Exited'] + continuous_vars + cat_vars]\n",
    "df.head()"
   ]
  },
  {
   "cell_type": "code",
   "execution_count": 20,
   "metadata": {},
   "outputs": [
    {
     "data": {
      "text/html": [
       "<div>\n",
       "<style scoped>\n",
       "    .dataframe tbody tr th:only-of-type {\n",
       "        vertical-align: middle;\n",
       "    }\n",
       "\n",
       "    .dataframe tbody tr th {\n",
       "        vertical-align: top;\n",
       "    }\n",
       "\n",
       "    .dataframe thead th {\n",
       "        text-align: right;\n",
       "    }\n",
       "</style>\n",
       "<table border=\"1\" class=\"dataframe\">\n",
       "  <thead>\n",
       "    <tr style=\"text-align: right;\">\n",
       "      <th></th>\n",
       "      <th>Exited</th>\n",
       "      <th>CreditScore</th>\n",
       "      <th>Age</th>\n",
       "      <th>Tenure</th>\n",
       "      <th>Balance</th>\n",
       "      <th>NumOfProducts</th>\n",
       "      <th>EstimatedSalary</th>\n",
       "      <th>Balance/Salary</th>\n",
       "      <th>CreditScore/Age</th>\n",
       "      <th>HasCrCard</th>\n",
       "      <th>IsActiveMember</th>\n",
       "      <th>Geography</th>\n",
       "      <th>Gender</th>\n",
       "    </tr>\n",
       "  </thead>\n",
       "  <tbody>\n",
       "    <tr>\n",
       "      <td>0</td>\n",
       "      <td>1</td>\n",
       "      <td>619</td>\n",
       "      <td>42</td>\n",
       "      <td>2</td>\n",
       "      <td>0.00</td>\n",
       "      <td>1</td>\n",
       "      <td>101348.88</td>\n",
       "      <td>0.000000</td>\n",
       "      <td>14.738095</td>\n",
       "      <td>1</td>\n",
       "      <td>1</td>\n",
       "      <td>France</td>\n",
       "      <td>Female</td>\n",
       "    </tr>\n",
       "    <tr>\n",
       "      <td>1</td>\n",
       "      <td>0</td>\n",
       "      <td>608</td>\n",
       "      <td>41</td>\n",
       "      <td>1</td>\n",
       "      <td>83807.86</td>\n",
       "      <td>1</td>\n",
       "      <td>112542.58</td>\n",
       "      <td>0.744677</td>\n",
       "      <td>14.829268</td>\n",
       "      <td>-1</td>\n",
       "      <td>1</td>\n",
       "      <td>Spain</td>\n",
       "      <td>Female</td>\n",
       "    </tr>\n",
       "    <tr>\n",
       "      <td>2</td>\n",
       "      <td>1</td>\n",
       "      <td>502</td>\n",
       "      <td>42</td>\n",
       "      <td>8</td>\n",
       "      <td>159660.80</td>\n",
       "      <td>3</td>\n",
       "      <td>113931.57</td>\n",
       "      <td>1.401375</td>\n",
       "      <td>11.952381</td>\n",
       "      <td>1</td>\n",
       "      <td>-1</td>\n",
       "      <td>France</td>\n",
       "      <td>Female</td>\n",
       "    </tr>\n",
       "    <tr>\n",
       "      <td>3</td>\n",
       "      <td>0</td>\n",
       "      <td>699</td>\n",
       "      <td>39</td>\n",
       "      <td>1</td>\n",
       "      <td>0.00</td>\n",
       "      <td>2</td>\n",
       "      <td>93826.63</td>\n",
       "      <td>0.000000</td>\n",
       "      <td>17.923077</td>\n",
       "      <td>-1</td>\n",
       "      <td>-1</td>\n",
       "      <td>France</td>\n",
       "      <td>Female</td>\n",
       "    </tr>\n",
       "    <tr>\n",
       "      <td>4</td>\n",
       "      <td>0</td>\n",
       "      <td>850</td>\n",
       "      <td>43</td>\n",
       "      <td>2</td>\n",
       "      <td>125510.82</td>\n",
       "      <td>1</td>\n",
       "      <td>79084.10</td>\n",
       "      <td>1.587055</td>\n",
       "      <td>19.767442</td>\n",
       "      <td>1</td>\n",
       "      <td>1</td>\n",
       "      <td>Spain</td>\n",
       "      <td>Female</td>\n",
       "    </tr>\n",
       "  </tbody>\n",
       "</table>\n",
       "</div>"
      ],
      "text/plain": [
       "   Exited  CreditScore  Age  Tenure    Balance  NumOfProducts  \\\n",
       "0       1          619   42       2       0.00              1   \n",
       "1       0          608   41       1   83807.86              1   \n",
       "2       1          502   42       8  159660.80              3   \n",
       "3       0          699   39       1       0.00              2   \n",
       "4       0          850   43       2  125510.82              1   \n",
       "\n",
       "   EstimatedSalary  Balance/Salary  CreditScore/Age  HasCrCard  \\\n",
       "0        101348.88        0.000000        14.738095          1   \n",
       "1        112542.58        0.744677        14.829268         -1   \n",
       "2        113931.57        1.401375        11.952381          1   \n",
       "3         93826.63        0.000000        17.923077         -1   \n",
       "4         79084.10        1.587055        19.767442          1   \n",
       "\n",
       "   IsActiveMember Geography  Gender  \n",
       "0               1    France  Female  \n",
       "1               1     Spain  Female  \n",
       "2              -1    France  Female  \n",
       "3              -1    France  Female  \n",
       "4               1     Spain  Female  "
      ]
     },
     "execution_count": 20,
     "metadata": {},
     "output_type": "execute_result"
    }
   ],
   "source": [
    "df.loc[df.HasCrCard == 0, 'HasCrCard'] = -1\n",
    "df.loc[df.IsActiveMember == 0, 'IsActiveMember'] = -1\n",
    "df.head()"
   ]
  },
  {
   "cell_type": "code",
   "execution_count": 21,
   "metadata": {},
   "outputs": [
    {
     "data": {
      "text/html": [
       "<div>\n",
       "<style scoped>\n",
       "    .dataframe tbody tr th:only-of-type {\n",
       "        vertical-align: middle;\n",
       "    }\n",
       "\n",
       "    .dataframe tbody tr th {\n",
       "        vertical-align: top;\n",
       "    }\n",
       "\n",
       "    .dataframe thead th {\n",
       "        text-align: right;\n",
       "    }\n",
       "</style>\n",
       "<table border=\"1\" class=\"dataframe\">\n",
       "  <thead>\n",
       "    <tr style=\"text-align: right;\">\n",
       "      <th></th>\n",
       "      <th>Exited</th>\n",
       "      <th>CreditScore</th>\n",
       "      <th>Age</th>\n",
       "      <th>Tenure</th>\n",
       "      <th>Balance</th>\n",
       "      <th>NumOfProducts</th>\n",
       "      <th>EstimatedSalary</th>\n",
       "      <th>Balance/Salary</th>\n",
       "      <th>CreditScore/Age</th>\n",
       "      <th>HasCrCard</th>\n",
       "      <th>IsActiveMember</th>\n",
       "      <th>Geography_France</th>\n",
       "      <th>Geography_Spain</th>\n",
       "      <th>Geography_Germany</th>\n",
       "      <th>Gender_Female</th>\n",
       "      <th>Gender_Male</th>\n",
       "    </tr>\n",
       "  </thead>\n",
       "  <tbody>\n",
       "    <tr>\n",
       "      <td>0</td>\n",
       "      <td>1</td>\n",
       "      <td>619</td>\n",
       "      <td>42</td>\n",
       "      <td>2</td>\n",
       "      <td>0.00</td>\n",
       "      <td>1</td>\n",
       "      <td>101348.88</td>\n",
       "      <td>0.000000</td>\n",
       "      <td>14.738095</td>\n",
       "      <td>1</td>\n",
       "      <td>1</td>\n",
       "      <td>1</td>\n",
       "      <td>-1</td>\n",
       "      <td>-1</td>\n",
       "      <td>1</td>\n",
       "      <td>-1</td>\n",
       "    </tr>\n",
       "    <tr>\n",
       "      <td>1</td>\n",
       "      <td>0</td>\n",
       "      <td>608</td>\n",
       "      <td>41</td>\n",
       "      <td>1</td>\n",
       "      <td>83807.86</td>\n",
       "      <td>1</td>\n",
       "      <td>112542.58</td>\n",
       "      <td>0.744677</td>\n",
       "      <td>14.829268</td>\n",
       "      <td>-1</td>\n",
       "      <td>1</td>\n",
       "      <td>-1</td>\n",
       "      <td>1</td>\n",
       "      <td>-1</td>\n",
       "      <td>1</td>\n",
       "      <td>-1</td>\n",
       "    </tr>\n",
       "    <tr>\n",
       "      <td>2</td>\n",
       "      <td>1</td>\n",
       "      <td>502</td>\n",
       "      <td>42</td>\n",
       "      <td>8</td>\n",
       "      <td>159660.80</td>\n",
       "      <td>3</td>\n",
       "      <td>113931.57</td>\n",
       "      <td>1.401375</td>\n",
       "      <td>11.952381</td>\n",
       "      <td>1</td>\n",
       "      <td>-1</td>\n",
       "      <td>1</td>\n",
       "      <td>-1</td>\n",
       "      <td>-1</td>\n",
       "      <td>1</td>\n",
       "      <td>-1</td>\n",
       "    </tr>\n",
       "    <tr>\n",
       "      <td>3</td>\n",
       "      <td>0</td>\n",
       "      <td>699</td>\n",
       "      <td>39</td>\n",
       "      <td>1</td>\n",
       "      <td>0.00</td>\n",
       "      <td>2</td>\n",
       "      <td>93826.63</td>\n",
       "      <td>0.000000</td>\n",
       "      <td>17.923077</td>\n",
       "      <td>-1</td>\n",
       "      <td>-1</td>\n",
       "      <td>1</td>\n",
       "      <td>-1</td>\n",
       "      <td>-1</td>\n",
       "      <td>1</td>\n",
       "      <td>-1</td>\n",
       "    </tr>\n",
       "    <tr>\n",
       "      <td>4</td>\n",
       "      <td>0</td>\n",
       "      <td>850</td>\n",
       "      <td>43</td>\n",
       "      <td>2</td>\n",
       "      <td>125510.82</td>\n",
       "      <td>1</td>\n",
       "      <td>79084.10</td>\n",
       "      <td>1.587055</td>\n",
       "      <td>19.767442</td>\n",
       "      <td>1</td>\n",
       "      <td>1</td>\n",
       "      <td>-1</td>\n",
       "      <td>1</td>\n",
       "      <td>-1</td>\n",
       "      <td>1</td>\n",
       "      <td>-1</td>\n",
       "    </tr>\n",
       "  </tbody>\n",
       "</table>\n",
       "</div>"
      ],
      "text/plain": [
       "   Exited  CreditScore  Age  Tenure    Balance  NumOfProducts  \\\n",
       "0       1          619   42       2       0.00              1   \n",
       "1       0          608   41       1   83807.86              1   \n",
       "2       1          502   42       8  159660.80              3   \n",
       "3       0          699   39       1       0.00              2   \n",
       "4       0          850   43       2  125510.82              1   \n",
       "\n",
       "   EstimatedSalary  Balance/Salary  CreditScore/Age  HasCrCard  \\\n",
       "0        101348.88        0.000000        14.738095          1   \n",
       "1        112542.58        0.744677        14.829268         -1   \n",
       "2        113931.57        1.401375        11.952381          1   \n",
       "3         93826.63        0.000000        17.923077         -1   \n",
       "4         79084.10        1.587055        19.767442          1   \n",
       "\n",
       "   IsActiveMember  Geography_France  Geography_Spain  Geography_Germany  \\\n",
       "0               1                 1               -1                 -1   \n",
       "1               1                -1                1                 -1   \n",
       "2              -1                 1               -1                 -1   \n",
       "3              -1                 1               -1                 -1   \n",
       "4               1                -1                1                 -1   \n",
       "\n",
       "   Gender_Female  Gender_Male  \n",
       "0              1           -1  \n",
       "1              1           -1  \n",
       "2              1           -1  \n",
       "3              1           -1  \n",
       "4              1           -1  "
      ]
     },
     "execution_count": 21,
     "metadata": {},
     "output_type": "execute_result"
    }
   ],
   "source": [
    "lst = ['Geography', 'Gender']\n",
    "remove = list()\n",
    "for i in lst:\n",
    "    if (df[i].dtype == np.str or df[i].dtype == np.object):\n",
    "        for j in df[i].unique():\n",
    "            df[i+'_'+j] = np.where(df[i] == j,1,-1)\n",
    "        remove.append(i)\n",
    "df = df.drop(remove, axis=1)\n",
    "df.head()"
   ]
  },
  {
   "cell_type": "code",
   "execution_count": 22,
   "metadata": {},
   "outputs": [
    {
     "data": {
      "text/plain": [
       "(10000, 16)"
      ]
     },
     "execution_count": 22,
     "metadata": {},
     "output_type": "execute_result"
    }
   ],
   "source": [
    "minVec = df[continuous_vars].min().copy()\n",
    "maxVec = df[continuous_vars].max().copy()\n",
    "df[continuous_vars] = (df[continuous_vars]-minVec)/(maxVec-minVec)\n",
    "df.shape"
   ]
  },
  {
   "cell_type": "code",
   "execution_count": 23,
   "metadata": {},
   "outputs": [
    {
     "name": "stdout",
     "output_type": "stream",
     "text": [
      "7000\n",
      "1000\n"
     ]
    }
   ],
   "source": [
    "df_train = df.sample(frac=0.7,random_state=200)\n",
    "tmp_df = df.drop(df_train.index)\n",
    "test_df = tmp_df.sample(frac=0.33333, random_state=200)\n",
    "valid_df = tmp_df.drop(test_df.index)\n",
    "\n",
    "print(len(df_train))\n",
    "print(len(test_df))\n",
    "del tmp_df"
   ]
  },
  {
   "cell_type": "code",
   "execution_count": 24,
   "metadata": {},
   "outputs": [
    {
     "name": "stdout",
     "output_type": "stream",
     "text": [
      "{0, 1}\n"
     ]
    }
   ],
   "source": [
    "train_file=df_train.to_numpy()\n",
    "train_X= train_file[:,1:16]\n",
    "train_y= train_file[:,1]\n",
    "train_X = np.array(train_X, dtype=np.float64)\n",
    "train_y = np.array(train_y, dtype=np.int64)\n",
    "\n",
    "\n",
    "valid_file=valid_df.to_numpy()\n",
    "valid_X= valid_file[:,1:16]\n",
    "valid_y= valid_file[:,1]\n",
    "valid_X = np.array(valid_X, dtype=np.float64)\n",
    "valid_y = np.array(valid_y, dtype=np.int64)\n",
    "\n",
    "test_file=test_df.to_numpy()\n",
    "test_X= test_file[:,1:16]\n",
    "test_y= test_file[:,1]\n",
    "test_X = np.array(test_X, dtype=np.float64)\n",
    "test_y = np.array(test_y, dtype=np.int64)\n",
    "print(set(train_y))"
   ]
  },
  {
   "cell_type": "code",
   "execution_count": 25,
   "metadata": {},
   "outputs": [],
   "source": [
    "from imblearn.over_sampling import SMOTE\n",
    "smot= SMOTE()\n",
    "X_smot, y_smot= smot.fit_sample(train_X,train_y)\n"
   ]
  },
  {
   "cell_type": "code",
   "execution_count": 26,
   "metadata": {},
   "outputs": [],
   "source": [
    "def linear(H):\n",
    "    return H\n",
    "\n",
    "def ReLU(H):\n",
    "    return H*(H> 0)\n",
    "\n",
    "def softmax(H):\n",
    "    eH= np.exp(H)\n",
    "    return eH/eH.sum(axis=1, keepdims=True)\n",
    "\n",
    "def cross_entropy(Y, P_hat):\n",
    "    return -np.sum(Y*np.log(P_hat))\n",
    "\n",
    "\n",
    "def one_hot_encode(y):\n",
    "    N= len(y)\n",
    "    K= len(set(y))\n",
    "    Y=np.zeros((N,K))\n",
    "    \n",
    "    for i in range(N):\n",
    "        Y[i,y[i]]=1\n",
    "        \n",
    "    return Y\n",
    "\n",
    "def accuracy(y, y_hat):\n",
    "    return np.mean(y==y_hat)\n",
    "\n",
    "def OLS(Y,Y_hat):\n",
    "    \n",
    "    return (1/(2*len(Y)))*np.sum((Y-Y_hat)**2)\n",
    "\n",
    "def R2(Y,Y_hat):\n",
    "    return (1- (np.sum((Y-Y_hat)**2)/np.sum((Y-np.mean(Y))**2)))"
   ]
  },
  {
   "cell_type": "code",
   "execution_count": 27,
   "metadata": {},
   "outputs": [],
   "source": [
    "class ANN():\n",
    "    def __init__(self, mode=0):\n",
    "        self.mode=mode\n",
    "\n",
    "\n",
    "    def fit(self, X,y, neurons =10, eta =1e-3, epochs=1e3, show_curve =False):\n",
    "        epochs = int(epochs)\n",
    "        if self.mode:\n",
    "            Y=y\n",
    "        else:\n",
    "            Y= one_hot_encode(y)\n",
    "\n",
    "        N,D =X.shape\n",
    "        K=Y.shape[1]\n",
    "\n",
    "        self.W = {l: np.random.randn(M[0],M[1]) for l,M in enumerate(zip([D, neurons],\n",
    "                                                                     [neurons,K]),1)}\n",
    "        self.b = {l:np.random.randn(M) for l,M in enumerate([neurons, K],1)}\n",
    "\n",
    "        if self.mode:\n",
    "            self.a ={1:np.tanh, 2:linear}\n",
    "        else:\n",
    "            self.a ={1:np.tanh, 2:softmax}\n",
    "\n",
    "        J= np.zeros(epochs)\n",
    "        for epoch in range(epochs):\n",
    "            self.forward(X)\n",
    "\n",
    "            if self.mode:\n",
    "                J[epoch]=OLS(Y, self.Z[2])\n",
    "            else: \n",
    "                J[epoch]=cross_entropy(Y, self.Z[2])\n",
    "\n",
    "            self.W[2] -= eta*(1/N)*self.Z[1].T@(self.Z[2]-Y)\n",
    "            self.b[2] -= eta*(1/N)*(self.Z[2]-Y).sum(axis=0)\n",
    "\n",
    "            self.W[1] -= eta*(1/N)*X.T@((self.Z[2]-Y)@self.W[2].T*(1-self.Z[1]**2))\n",
    "            self.b[1] -= eta*(1/N)*((self.Z[2]-Y)@self.W[2].T*(1-self.Z[1]**2)).sum(axis=0)\n",
    "      \n",
    "        if show_curve:\n",
    "            plt.figure()\n",
    "            plt.plot(J)\n",
    "            plt.xlabel(\"epochs\")\n",
    "            plt.ylabel(\"$\\mathcal{J}$\")\n",
    "            plt.show()\n",
    "\n",
    "    def forward(self, X):\n",
    "        self.Z={0:X}\n",
    "        for l in sorted(self.W.keys()):\n",
    "            self.Z[l]= self.a[l](self.Z[l-1]@self.W[l]+self.b[l]) \n",
    "\n",
    "    def predict(self, X):\n",
    "        self.forward(X)\n",
    "        if self.mode:\n",
    "            return self.Z[2]\n",
    "        else:\n",
    "            return self.Z[2].argmax(axis=1)"
   ]
  },
  {
   "cell_type": "code",
   "execution_count": 28,
   "metadata": {},
   "outputs": [
    {
     "data": {
      "image/png": "[encoded data removed]",
      "text/plain": [
       "<Figure size 432x288 with 1 Axes>"
      ]
     },
     "metadata": {
      "needs_background": "light"
     },
     "output_type": "display_data"
    }
   ],
   "source": [
    "ann_for =ANN()\n",
    "#ann_for.fit(train_X,train_y, neurons =30, eta =3e-2, epochs=7e3, show_curve =True)\n",
    "#ann_for.fit(train_X,train_y, neurons =20, eta =3e-2, epochs=7e3, show_curve =True)\n",
    "ann_for.fit(X_smot,y_smot, neurons =20, eta =3e-2, epochs=7e4, show_curve =True)"
   ]
  },
  {
   "cell_type": "code",
   "execution_count": 29,
   "metadata": {},
   "outputs": [
    {
     "name": "stdout",
     "output_type": "stream",
     "text": [
      "Training Accuracy: 0.9944\n",
      "valid Accuracy: 0.9925\n",
      "Test Accuracy: 0.9890\n"
     ]
    }
   ],
   "source": [
    "#y_hatFor_train = ann_for.predict(train_X)\n",
    "y_hatFor_train = ann_for.predict(X_smot)\n",
    "y_hatFor_valid = ann_for.predict(valid_X)\n",
    "y_hatFor_test = ann_for.predict(test_X)\n",
    "    \n",
    "#print(f\"Training Accuracy: {accuracy(train_y, y_hatFor_train):0.4f}\")\n",
    "print(f\"Training Accuracy: {accuracy(y_smot, y_hatFor_train):0.4f}\")\n",
    "print(f\"valid Accuracy: {accuracy(valid_y, y_hatFor_valid):0.4f}\")\n",
    "print(f\"Test Accuracy: {accuracy(test_y, y_hatFor_test):0.4f}\")\n",
    "#print(train_X[0])"
   ]
  },
  {
   "cell_type": "code",
   "execution_count": 40,
   "metadata": {},
   "outputs": [
    {
     "data": {
      "text/plain": [
       "array([[973,  10],\n",
       "       [  1,  16]], dtype=int64)"
      ]
     },
     "execution_count": 40,
     "metadata": {},
     "output_type": "execute_result"
    }
   ],
   "source": [
    "from sklearn.metrics import confusion_matrix\n",
    "y_true = test_y\n",
    "y_pred = y_hatFor_test\n",
    "\n",
    "classes=[0,1]\n",
    "\n",
    "cm =confusion_matrix(y_true, y_pred, labels=[0,1])\n",
    "cm\n",
    "#print(len(test_y))"
   ]
  },
  {
   "cell_type": "code",
   "execution_count": null,
   "metadata": {},
   "outputs": [],
   "source": []
  },
  {
   "cell_type": "code",
   "execution_count": 31,
   "metadata": {},
   "outputs": [],
   "source": [
    "def linear(H):\n",
    "  return H\n",
    "  \n",
    "def ReLU(H):\n",
    "  return H*(H>0)\n",
    "\n",
    "def sigmoid(H):\n",
    "  return 1/(1+ np.exp(-H))\n",
    "\n",
    "def softmax(H):\n",
    "  eH=np.exp(H)\n",
    "  return eH/eH.sum(axis=1, keepdims =True)\n",
    "\n",
    "def cross_entropy(Y,P_hat):\n",
    "  return -(1/len(Y))*np.sum(Y*np.log(P_hat))\n",
    "\n",
    "def OLS(Y,Y_hat):\n",
    "  return (1/(2*len(Y)))*np.sum((Y - Y_hat)**2)\n",
    "\n",
    "def one_hot_encode(y):\n",
    "  N=len(y)\n",
    "\n",
    "  K = len(set(y))\n",
    "  Y=np.zeros((N,K))\n",
    "\n",
    "  for i in range(N):\n",
    "    Y[i, y[i]]=1\n",
    "\n",
    "  return Y\n",
    "\n",
    "def accuracy(y, y_hat):\n",
    "  return np.mean(y==y_hat)\n",
    "\n",
    "def R2(y,y_hat):\n",
    "  return 1- np.sum((y - y_hat)**2)/np.sum((y - y.mean())**2)\n",
    "\n",
    "def derivative (Z, a):\n",
    "  if a==linear:\n",
    "    return 1\n",
    "  elif a == sigmoid:\n",
    "    return Z*(1-Z)\n",
    "  elif a ==np.tanh:\n",
    "    return 1-Z*Z\n",
    "  elif a == ReLU:\n",
    "    return (Z>0).astype(int)\n",
    "  else:\n",
    "    ValueError(\"Unknown activation function\")"
   ]
  },
  {
   "cell_type": "code",
   "execution_count": 37,
   "metadata": {},
   "outputs": [],
   "source": [
    "class ANN():\n",
    "  def __init__(self, architecture, activations = None, mode=0):\n",
    "    self.mode = mode\n",
    "    self.architecture = architecture\n",
    "    self.activations = activations\n",
    "    self.L = len(architecture)+1\n",
    "\n",
    "  def fit (self, X, y, eta=1e-3, epochs=1e3, show_curve=False):\n",
    "    epochs = int(epochs)\n",
    "    if self.mode:\n",
    "      Y=y\n",
    "    \n",
    "    else:\n",
    "      Y=one_hot_encode(y)\n",
    "    \n",
    "    N,D = X.shape\n",
    "    K = Y.shape[1]\n",
    "\n",
    "    #Initializing weights and biases: Stochastic Initialization\n",
    "    self.W = {l:np.random.randn(M[0], M[1]) for l,M in enumerate (zip(([D]+self.architecture),(self.architecture +[K])),1)}\n",
    "\n",
    "    self.b = {l:np.random.randn(M) for l,M in enumerate(self.architecture + [K], 1)}\n",
    "\n",
    "    #Activation Function Loading\n",
    "    if self.activations is None:\n",
    "      self.a = {l:ReLU for l in range(1, self.L)}\n",
    "    \n",
    "    else:\n",
    "      self.a = {l:act for l, act in enumerate(self.activations, 1)}\n",
    "    \n",
    "\n",
    "    #Mode Set\n",
    "    if self.mode:\n",
    "      self.a[self.L] = linear\n",
    "    \n",
    "    else:\n",
    "      self.a[self.L] = softmax\n",
    "\n",
    "    J = np.zeros(epochs)\n",
    "\n",
    "    #Gradient Descent / Back propagation\n",
    "    for epoch in range(epochs):\n",
    "      self.forward(X)\n",
    "\n",
    "      if self.mode:\n",
    "        J[epoch] = OLS(Y, self.Z[self.L])\n",
    "      \n",
    "      else:\n",
    "        J[epoch] = cross_entropy(Y, self.Z[self.L])\n",
    "      \n",
    "      dH = (1/N)*(self.Z[self.L] - Y)\n",
    "\n",
    "      for l in sorted(self.W.keys(), reverse = True):\n",
    "        dW = self.Z[l-1].T@dH\n",
    "        db = dH.sum(axis=0)\n",
    "\n",
    "        self.W[l] -= eta*dW\n",
    "        self.b[l] -= eta*db\n",
    "\n",
    "        if l>1:\n",
    "          dZ = dH@self.W[l].T\n",
    "          dH = dZ*derivative(self.Z[l-1], self.a[l-1])\n",
    "\n",
    "\n",
    "    if show_curve:\n",
    "       plt.figure()\n",
    "       plt.plot(J)\n",
    "       plt.xlabel('epochs')\n",
    "       plt.ylabel(\"$\\matchcal{J}\")\n",
    "       plt.title(\"Training Curve\")\n",
    "       plt.show()\n",
    "\n",
    "\n",
    "  def forward(self, X):\n",
    "    self.Z = {0:X}\n",
    "    for l in sorted(self.W.keys()):\n",
    "      self.Z[l] = self.a[l](self.Z[l-1]@self.W[l]+self.b[l])\n",
    "\n",
    "  def predict(self, X):\n",
    "    self.forward(X)\n",
    "\n",
    "    if self.mode:\n",
    "      return self.Z[self.L]\n",
    "    \n",
    "    else:\n",
    "      return self.Z[self.L].argmax(axis=1)    \n"
   ]
  },
  {
   "cell_type": "code",
   "execution_count": 38,
   "metadata": {},
   "outputs": [
    {
     "data": {
      "image/png": "[encoded data removed]",
      "text/plain": [
       "<Figure size 432x288 with 1 Axes>"
      ]
     },
     "metadata": {
      "needs_background": "light"
     },
     "output_type": "display_data"
    }
   ],
   "source": [
    "ann = ANN([20, 20,20,10],[ReLU,np.tanh,np.tanh, np.tanh])\n",
    "#ann.fit(train_X, train_y, eta = 1e-2, epochs = 2e3, show_curve = True)\n",
    "ann.fit(X_smot,y_smot, eta = 1e-2, epochs = 2e3, show_curve = True)"
   ]
  },
  {
   "cell_type": "code",
   "execution_count": 39,
   "metadata": {},
   "outputs": [
    {
     "name": "stdout",
     "output_type": "stream",
     "text": [
      "Training Accuracy: 0.8376\n",
      "valid Accuracy: 0.7655\n",
      "Test Accuracy: 0.7620\n"
     ]
    }
   ],
   "source": [
    "#y_hat_train = ann.predict(train_X)\n",
    "y_hat_train = ann.predict(X_smot)\n",
    "y_hat_valid = ann.predict(valid_X)\n",
    "y_hat_test = ann.predict(test_X)\n",
    "    \n",
    "#print(f\"Training Accuracy: {accuracy(train_y, y_hat_train):0.4f}\")\n",
    "print(f\"Training Accuracy: {accuracy(y_smot, y_hat_train):0.4f}\")\n",
    "print(f\"valid Accuracy: {accuracy(valid_y, y_hat_valid):0.4f}\")\n",
    "print(f\"Test Accuracy: {accuracy(test_y, y_hat_test):0.4f}\")\n"
   ]
  },
  {
   "cell_type": "code",
   "execution_count": 35,
   "metadata": {},
   "outputs": [
    {
     "data": {
      "text/plain": [
       "array([[981,   2],\n",
       "       [ 17,   0]], dtype=int64)"
      ]
     },
     "execution_count": 35,
     "metadata": {},
     "output_type": "execute_result"
    }
   ],
   "source": [
    "from sklearn.metrics import confusion_matrix\n",
    "y_true = test_y\n",
    "y_pred = y_hat_test\n",
    "\n",
    "classes=[0,1]\n",
    "\n",
    "cm =confusion_matrix(y_true, y_pred, labels=[0,1])\n",
    "cm"
   ]
  },
  {
   "cell_type": "code",
   "execution_count": 36,
   "metadata": {},
   "outputs": [
    {
     "data": {
      "image/png": "[encoded data removed]",
      "text/plain": [
       "<Figure size 576x576 with 1 Axes>"
      ]
     },
     "metadata": {
      "needs_background": "light"
     },
     "output_type": "display_data"
    }
   ],
   "source": [
    "#cm = np.round (cm.astype('int'),2)\n",
    "fig, ax = plt.subplots(figsize=(8,8))\n",
    "plt.imshow(cm, cmap=plt.cm.Pastel1)\n",
    "#plt.ylabel('Actual')\n",
    "#plt.xlabel('Predicted')\n",
    "#plt.show(block=False)\n",
    "for i in range(2):\n",
    "    for j in range(2):\n",
    "        plt.text(j,i, str(cm[i][j]),fontweight=\"bold\",fontsize=20)\n",
    "      \n",
    "        plt.xticks([-0.5,0,0.5,1,1.5],labels=[-0.5,0,0.5,1,1.5],fontsize=16, fontweight=\"bold\")\n",
    "        plt.yticks([-0.5,0,0.5,1,1.5],labels=[-0.5,0,0.5,1,1.5],fontsize=16, fontweight=\"bold\")\n",
    "plt.ylabel('True label',fontsize=20, fontweight=\"bold\")\n",
    "plt.xlabel('Predicted label',fontsize=20, fontweight=\"bold\")\n",
    "plt.savefig(\"./ConfusionMatricsTestSetKNN.png\" , dpi=150)\n",
    "plt.show()"
   ]
  },
  {
   "cell_type": "code",
   "execution_count": null,
   "metadata": {},
   "outputs": [],
   "source": []
  }
 ],
 "metadata": {
  "kernelspec": {
   "display_name": "Python 3",
   "language": "python",
   "name": "python3"
  },
  "language_info": {
   "codemirror_mode": {
    "name": "ipython",
    "version": 3
   },
   "file_extension": ".py",
   "mimetype": "text/x-python",
   "name": "python",
   "nbconvert_exporter": "python",
   "pygments_lexer": "ipython3",
   "version": "3.7.4"
  }
 },
 "nbformat": 4,
 "nbformat_minor": 2
}
