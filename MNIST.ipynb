{
 "cells": [
  {
   "cell_type": "code",
   "execution_count": 58,
   "metadata": {
    "id": "gNiLADw1HaFe"
   },
   "outputs": [],
   "source": [
    "import numpy as np\n",
    "import pandas as pd\n",
    "import matplotlib.pyplot as plt"
   ]
  },
  {
   "cell_type": "code",
   "execution_count": 59,
   "metadata": {
    "id": "nkaZFBBQMWmH"
   },
   "outputs": [],
   "source": [
    "df_train=pd.read_csv(\"./MNIST_train.csv\")\n"
   ]
  },
  {
   "cell_type": "code",
   "execution_count": 60,
   "metadata": {
    "colab": {
     "base_uri": "https://localhost:8080/"
    },
    "id": "pjPxh1r4NIWm",
    "outputId": "b1db664c-f6ba-4222-d0f8-3c84c63865d5"
   },
   "outputs": [
    {
     "data": {
      "text/plain": [
       "(60000, 787)"
      ]
     },
     "execution_count": 60,
     "metadata": {},
     "output_type": "execute_result"
    }
   ],
   "source": [
    "df_train.head()\n",
    "df_train.shape"
   ]
  },
  {
   "cell_type": "code",
   "execution_count": 61,
   "metadata": {
    "colab": {
     "base_uri": "https://localhost:8080/"
    },
    "id": "x-ag-S7JpR1h",
    "outputId": "34f33fd5-10f8-4107-e008-3b3bdfc0fd9f"
   },
   "outputs": [
    {
     "data": {
      "text/plain": [
       "Unnamed: 0    0\n",
       "index         0\n",
       "labels        0\n",
       "0             0\n",
       "1             0\n",
       "             ..\n",
       "779           0\n",
       "780           0\n",
       "781           0\n",
       "782           0\n",
       "783           0\n",
       "Length: 787, dtype: int64"
      ]
     },
     "execution_count": 61,
     "metadata": {},
     "output_type": "execute_result"
    }
   ],
   "source": [
    "df_train.isnull().sum()"
   ]
  },
  {
   "cell_type": "code",
   "execution_count": 62,
   "metadata": {
    "id": "mfCEj8vYpXim"
   },
   "outputs": [],
   "source": [
    "missing_values=[\"NA\",\"n/a\",\"--\",\"\",\"N/A\",\"na\",\"None\",\"none\",\"NONE\",\"n.a.\",\"?\"]\n",
    "df_train = pd.read_csv(\"./MNIST_train.csv\", na_values=missing_values)\n"
   ]
  },
  {
   "cell_type": "code",
   "execution_count": 63,
   "metadata": {
    "colab": {
     "base_uri": "https://localhost:8080/"
    },
    "id": "DZLJumtexpl1",
    "outputId": "7a61ed57-65df-4a55-8f8e-29826625079f"
   },
   "outputs": [
    {
     "data": {
      "text/plain": [
       "Unnamed: 0    0\n",
       "index         0\n",
       "labels        0\n",
       "0             0\n",
       "1             0\n",
       "             ..\n",
       "779           0\n",
       "780           0\n",
       "781           0\n",
       "782           0\n",
       "783           0\n",
       "Length: 787, dtype: int64"
      ]
     },
     "execution_count": 63,
     "metadata": {},
     "output_type": "execute_result"
    }
   ],
   "source": [
    "df_train.isnull().sum()"
   ]
  },
  {
   "cell_type": "code",
   "execution_count": 64,
   "metadata": {
    "id": "bHZAGqtKNKQR"
   },
   "outputs": [],
   "source": [
    "X= df_train.to_numpy()\n",
    "y=X[:,2]"
   ]
  },
  {
   "cell_type": "code",
   "execution_count": 65,
   "metadata": {
    "colab": {
     "base_uri": "https://localhost:8080/"
    },
    "id": "sVqnBPCIPaPC",
    "outputId": "d6892ff6-01a7-4e76-ffa5-03b5e9608d07"
   },
   "outputs": [
    {
     "data": {
      "text/plain": [
       "(60000, 784)"
      ]
     },
     "execution_count": 65,
     "metadata": {},
     "output_type": "execute_result"
    }
   ],
   "source": [
    "X=X[:,3:]\n",
    "X.shape\n",
    "#y=X[:,2:3]\n",
    "#y=df_train[\"labels\"].to_numpy()\n",
    "#y.shape\n",
    "#print(y)"
   ]
  },
  {
   "cell_type": "code",
   "execution_count": 66,
   "metadata": {
    "colab": {
     "base_uri": "https://localhost:8080/"
    },
    "id": "FpV2B5H1iJgh",
    "outputId": "5d3b8d2e-decb-42ef-f9a9-c4d4dd3ca32e"
   },
   "outputs": [
    {
     "name": "stdout",
     "output_type": "stream",
     "text": [
      "[5 0 4 ... 5 6 8]\n"
     ]
    },
    {
     "data": {
      "text/plain": [
       "(60000,)"
      ]
     },
     "execution_count": 66,
     "metadata": {},
     "output_type": "execute_result"
    }
   ],
   "source": [
    "print(y)\n",
    "y.shape"
   ]
  },
  {
   "cell_type": "code",
   "execution_count": null,
   "metadata": {
    "colab": {
     "base_uri": "https://localhost:8080/",
     "height": 221
    },
    "id": "Mj7Oq_-ruG3W",
    "outputId": "67cfa6d2-8fa9-470a-a984-5e709139f56d"
   },
   "outputs": [
    {
     "ename": "ValueError",
     "evalue": "ignored",
     "output_type": "error",
     "traceback": [
      "\u001b[0;31m---------------------------------------------------------------------------\u001b[0m",
      "\u001b[0;31mValueError\u001b[0m                                Traceback (most recent call last)",
      "\u001b[0;32m<ipython-input-177-e2330aa7717c>\u001b[0m in \u001b[0;36m<module>\u001b[0;34m()\u001b[0m\n\u001b[0;32m----> 1\u001b[0;31m \u001b[0mX\u001b[0m\u001b[0;34m=\u001b[0m \u001b[0mX\u001b[0m\u001b[0;34m.\u001b[0m\u001b[0mreshape\u001b[0m\u001b[0;34m(\u001b[0m\u001b[0;34m(\u001b[0m\u001b[0;36m60000\u001b[0m\u001b[0;34m,\u001b[0m \u001b[0;36m28\u001b[0m\u001b[0;34m,\u001b[0m \u001b[0;36m28\u001b[0m\u001b[0;34m)\u001b[0m\u001b[0;34m)\u001b[0m\u001b[0;34m\u001b[0m\u001b[0;34m\u001b[0m\u001b[0m\n\u001b[0m\u001b[1;32m      2\u001b[0m \u001b[0;34m\u001b[0m\u001b[0m\n\u001b[1;32m      3\u001b[0m \u001b[0;34m\u001b[0m\u001b[0m\n\u001b[1;32m      4\u001b[0m \u001b[0;31m##x_train_reshaped=np.reshape(x_train,(60000, 28, 28))\u001b[0m\u001b[0;34m\u001b[0m\u001b[0;34m\u001b[0m\u001b[0;34m\u001b[0m\u001b[0m\n",
      "\u001b[0;31mValueError\u001b[0m: cannot reshape array of size 26880000 into shape (60000,28,28)"
     ]
    }
   ],
   "source": [
    "X= X.reshape((60000, 28, 28))\n",
    "\n",
    "\n",
    "##x_train_reshaped=np.reshape(x_train,(60000, 28, 28))"
   ]
  },
  {
   "cell_type": "code",
   "execution_count": null,
   "metadata": {
    "colab": {
     "base_uri": "https://localhost:8080/",
     "height": 256
    },
    "id": "LWrrtHflQs4N",
    "outputId": "b84033fe-c967-45d2-c8b4-7103a588a5db"
   },
   "outputs": [
    {
     "data": {
      "text/plain": [
       "<matplotlib.image.AxesImage at 0x7f2979ec5a50>"
      ]
     },
     "execution_count": 178,
     "metadata": {
      "tags": []
     },
     "output_type": "execute_result"
    },
    {
     "data": {
      "image/png": "[encoded data removed]",
      "text/plain": [
       "<Figure size 432x288 with 1 Axes>"
      ]
     },
     "metadata": {
      "needs_background": "light",
      "tags": []
     },
     "output_type": "display_data"
    }
   ],
   "source": [
    "#img= X[0].reshape((28,28))\n",
    "plt.imshow(X[6])"
   ]
  },
  {
   "cell_type": "code",
   "execution_count": null,
   "metadata": {
    "id": "4RzIyxnso82g"
   },
   "outputs": [],
   "source": []
  },
  {
   "cell_type": "code",
   "execution_count": 46,
   "metadata": {
    "id": "Cyk607x5nlZU"
   },
   "outputs": [],
   "source": [
    "##improve method to not recognize weight and height independent variables\n",
    "\n",
    "from scipy.stats import multivariate_normal as mvn ##distribution\n",
    "\n",
    "class GaussNB():\n",
    "  def fit(self,X,y,epsilon=1e-3):\n",
    "    self.likelihoods=dict()\n",
    "    self.priors=dict()\n",
    "    self.K=set(y.astype(int))\n",
    "    for k in self.K:\n",
    "      X_k=X[y==k,:]\n",
    "      self.likelihoods[k]={\"mean\":X_k.mean(axis=0),\"cov\":X_k.var(axis=0)+ epsilon} ###adding eplison for not having devision of zero\n",
    "      self.priors[k]=len(X_k)/len(X) ## =Nk/N , assume p(y)~1\n",
    "\n",
    "  def predict(self,X):\n",
    "    N, D= X.shape\n",
    "    P_hat= np.zeros((N,len(self.K)))\n",
    "\n",
    "    for k, l in self.likelihoods.items(): ###learning skews and mean\n",
    "      P_hat[:,k]=mvn.logpdf(X,l[\"mean\"],l[\"cov\"], allow_singular=True)+np.log(self.priors[k]) ##mvn assume the distributtion is Normal\n",
    "    return P_hat.argmax(axis=1)\n"
   ]
  },
  {
   "cell_type": "code",
   "execution_count": 47,
   "metadata": {
    "id": "TkNmfGf8HN1G"
   },
   "outputs": [],
   "source": [
    "gnb= GaussNB()"
   ]
  },
  {
   "cell_type": "code",
   "execution_count": 18,
   "metadata": {
    "id": "OFWCx_9dHUrR"
   },
   "outputs": [],
   "source": [
    "gnb.fit(X,y)"
   ]
  },
  {
   "cell_type": "code",
   "execution_count": 19,
   "metadata": {
    "id": "fimPjCpmHY6P"
   },
   "outputs": [],
   "source": [
    "##train accuaracy\n",
    "y_hat=gnb.predict(X)"
   ]
  },
  {
   "cell_type": "code",
   "execution_count": 20,
   "metadata": {
    "id": "1RimRXQIX6o1"
   },
   "outputs": [],
   "source": [
    "##define accuaracy\n",
    "def accuaracy(y,y_hat):\n",
    "  return np.mean(y==y_hat)"
   ]
  },
  {
   "cell_type": "code",
   "execution_count": 21,
   "metadata": {
    "colab": {
     "base_uri": "https://localhost:8080/"
    },
    "id": "DOOXlz3tyKxU",
    "outputId": "a0a7c7c0-361b-41b4-8be7-5fb988f6b436"
   },
   "outputs": [
    {
     "data": {
      "text/plain": [
       "0.5938"
      ]
     },
     "execution_count": 21,
     "metadata": {},
     "output_type": "execute_result"
    }
   ],
   "source": [
    "accuaracy(y,y_hat)"
   ]
  },
  {
   "cell_type": "code",
   "execution_count": 33,
   "metadata": {
    "id": "DC_C3DO0yNbg"
   },
   "outputs": [],
   "source": []
  },
  {
   "cell_type": "code",
   "execution_count": 22,
   "metadata": {
    "id": "RYnHVquxUeZp"
   },
   "outputs": [],
   "source": [
    "###we assume to have Normal distributions\n",
    "#New sigma_sub_k:\n",
    "#$\\sigma_k =\\frac\n",
    "class GaussBayes():\n",
    "  def fit(self ,X,y,epsilon=1e-3):\n",
    "    self.likelihoods =dict()\n",
    "    self.priors=dict()\n",
    "    self.K =set(y.astype(int))\n",
    "  \n",
    "    for k in self.K:\n",
    "      X_k=X[y==k,:]\n",
    "      N_k, D= X_k.shape\n",
    "      mu_k=X_k.mean(axis=0)\n",
    "    ##populate likilood\n",
    "      self.likelihoods[k]={'mean': X_k.mean(axis=0),'cov':(1/(N_k-1))*np.matmul((X_k-mu_k).T, X_k-mu_k)+ epsilon*np.identity(D)}\n",
    "      self.priors[k]=len(X_k)/len(X)\n",
    "\n",
    "  def predict(self,X):\n",
    "\n",
    "    N,D = X.shape\n",
    "    P_hat = np.zeros((N,len(self.K)))\n",
    "    for k, l in self.likelihoods.items():\n",
    "      P_hat[:,k]= mvn.logpdf(X,l[\"mean\"],l[\"cov\"]) + np.log(self.priors[k])\n",
    "    return P_hat.argmax(axis=1)"
   ]
  },
  {
   "cell_type": "code",
   "execution_count": 23,
   "metadata": {
    "id": "VoTF2fydzNR6"
   },
   "outputs": [],
   "source": [
    "gbayes=GaussBayes()"
   ]
  },
  {
   "cell_type": "code",
   "execution_count": 24,
   "metadata": {
    "id": "34z3m20hzThf"
   },
   "outputs": [],
   "source": [
    "gbayes.fit(X,y)"
   ]
  },
  {
   "cell_type": "code",
   "execution_count": 25,
   "metadata": {
    "id": "i2gksmGZzWAK"
   },
   "outputs": [],
   "source": [
    "y_hat_GB=gbayes.predict(X)"
   ]
  },
  {
   "cell_type": "code",
   "execution_count": 26,
   "metadata": {
    "id": "dv77BTAYzYR5"
   },
   "outputs": [],
   "source": [
    "##define accuaracy\n",
    "def accuaracy(y,y_hat_GB):\n",
    "  return np.mean(y==y_hat_GB)"
   ]
  },
  {
   "cell_type": "code",
   "execution_count": 27,
   "metadata": {
    "colab": {
     "base_uri": "https://localhost:8080/"
    },
    "id": "zyymXTiVzbX_",
    "outputId": "63a0057f-3cc6-4718-a781-a1bb06818cc5"
   },
   "outputs": [
    {
     "data": {
      "text/plain": [
       "0.78565"
      ]
     },
     "execution_count": 27,
     "metadata": {},
     "output_type": "execute_result"
    }
   ],
   "source": [
    "accuaracy(y,y_hat_GB)"
   ]
  },
  {
   "cell_type": "code",
   "execution_count": 28,
   "metadata": {
    "colab": {
     "base_uri": "https://localhost:8080/"
    },
    "id": "ZnLDivKgPuCB",
    "outputId": "f4f79890-b1c9-4710-90e8-c6aa2f515364"
   },
   "outputs": [
    {
     "name": "stdout",
     "output_type": "stream",
     "text": [
      "[  0   0   0   0   0   0   0   0   0   0   0   0   0   0   0   0   0   0\n",
      "   0   0   0   0   0   0   0   0   0   0   0   0   0   0   0   0   0   0\n",
      "   0   0   0   0   0   0   0   0   0   0   0   0   0   0   0   0   0   0\n",
      "   0   0   0   0   0   0   0   0   0   0   0   0   0   0   0   0   0   0\n",
      "   0   0   0   0   0   0   0   0   0   0   0   0   0   0   0   0   0   0\n",
      "   0   0   0   0   0   0   0   0   0   0   0   0   0   0   0   0   0   0\n",
      "   0   0   0   0   0   0   0   0   0   0   0   0   0   0   0   0   0   0\n",
      "   0   0   0   0   0   0   0   0   0   0   0   0   0   0   0   0   0   0\n",
      "   0   0   0   0   0   0   0   0   3  18  18  18 126 136 175  26 166 255\n",
      " 247 127   0   0   0   0   0   0   0   0   0   0   0   0  30  36  94 154\n",
      " 170 253 253 253 253 253 225 172 253 242 195  64   0   0   0   0   0   0\n",
      "   0   0   0   0   0  49 238 253 253 253 253 253 253 253 253 251  93  82\n",
      "  82  56  39   0   0   0   0   0   0   0   0   0   0   0   0  18 219 253\n",
      " 253 253 253 253 198 182 247 241   0   0   0   0   0   0   0   0   0   0\n",
      "   0   0   0   0   0   0   0   0  80 156 107 253 253 205  11   0  43 154\n",
      "   0   0   0   0   0   0   0   0   0   0   0   0   0   0   0   0   0   0\n",
      "   0  14   1 154 253  90   0   0   0   0   0   0   0   0   0   0   0   0\n",
      "   0   0   0   0   0   0   0   0   0   0   0   0   0 139 253 190   2   0\n",
      "   0   0   0   0   0   0   0   0   0   0   0   0   0   0   0   0   0   0\n",
      "   0   0   0   0   0  11 190 253  70   0   0   0   0   0   0   0   0   0\n",
      "   0   0   0   0   0   0   0   0   0   0   0   0   0   0   0   0  35 241\n",
      " 225 160 108   1   0   0   0   0   0   0   0   0   0   0   0   0   0   0\n",
      "   0   0   0   0   0   0   0   0   0  81 240 253 253 119  25   0   0   0\n",
      "   0   0   0   0   0   0   0   0   0   0   0   0   0   0   0   0   0   0\n",
      "   0   0  45 186 253 253 150  27   0   0   0   0   0   0   0   0   0   0\n",
      "   0   0   0   0   0   0   0   0   0   0   0   0   0  16  93 252 253 187\n",
      "   0   0   0   0   0   0   0   0   0   0   0   0   0   0   0   0   0   0\n",
      "   0   0   0   0   0   0   0 249 253 249  64   0   0   0   0   0   0   0\n",
      "   0   0   0   0   0   0   0   0   0   0   0   0   0   0  46 130 183 253\n",
      " 253 207   2   0   0   0   0   0   0   0   0   0   0   0   0   0   0   0\n",
      "   0   0   0   0  39 148 229 253 253 253 250 182   0   0   0   0   0   0\n",
      "   0   0   0   0   0   0   0   0   0   0   0   0  24 114 221 253 253 253\n",
      " 253 201  78   0   0   0   0   0   0   0   0   0   0   0   0   0   0   0\n",
      "   0   0  23  66 213 253 253 253 253 198  81   2   0   0   0   0   0   0\n",
      "   0   0   0   0   0   0   0   0   0   0  18 171 219 253 253 253 253 195\n",
      "  80   9   0   0   0   0   0   0   0   0   0   0   0   0   0   0   0   0\n",
      "  55 172 226 253 253 253 253 244 133  11   0   0   0   0   0   0   0   0\n",
      "   0   0   0   0   0   0   0   0   0   0 136 253 253 253 212 135 132  16\n",
      "   0   0   0   0   0   0   0   0   0   0   0   0   0   0   0   0   0   0\n",
      "   0   0   0   0   0   0   0   0   0   0   0   0   0   0   0   0   0   0\n",
      "   0   0   0   0   0   0   0   0   0   0   0   0   0   0   0   0   0   0\n",
      "   0   0   0   0   0   0   0   0   0   0   0   0   0   0   0   0   0   0\n",
      "   0   0   0   0   0   0   0   0   0   0   0   0   0   0   0   0   0   0\n",
      "   0   0   0   0   0   0   0   0   0   0]\n"
     ]
    }
   ],
   "source": [
    "####Classifiers\n",
    "print(X[0])"
   ]
  },
  {
   "cell_type": "code",
   "execution_count": 97,
   "metadata": {
    "id": "N4zY7E1Mzd1m"
   },
   "outputs": [],
   "source": [
    "##build classifier()\n",
    "class KNNClassifier():\n",
    "    def fit(self,X,y):\n",
    "        self.X=X\n",
    "        self.y=y\n",
    "        \n",
    "    def predict(self, X, K, epsilon=1e-3):\n",
    "        N=len(X)\n",
    "        y_hat= np.zeros(N)\n",
    "        ## find distance and measure distance of each points\n",
    "        for i in range(N):\n",
    "            dist2=np.sum((self.X-X[i])**2,axis=1)\n",
    "            idxt =np.argsort(dist2)[:K]\n",
    "            gamma_k=1/(np.sqrt(dist2[idxt])+ epsilon)\n",
    "            y_hat[i] = np.bincount(self.y[idxt], weights=gamma_k).argmax()\n",
    "            \n",
    "        return y_hat"
   ]
  },
  {
   "cell_type": "code",
   "execution_count": 98,
   "metadata": {
    "id": "xnw8OCZezlpg"
   },
   "outputs": [],
   "source": [
    "Knn= KNNClassifier()\n",
    "Knn.fit(X,y)"
   ]
  },
  {
   "cell_type": "code",
   "execution_count": 31,
   "metadata": {
    "colab": {
     "base_uri": "https://localhost:8080/",
     "height": 352
    },
    "id": "YWhTKiWJzooU",
    "outputId": "ec8ba1b7-f7ad-4a83-b4a2-8108db4c6dd1"
   },
   "outputs": [],
   "source": [
    "y_hat_KNN=Knn.predict(X,5)"
   ]
  },
  {
   "cell_type": "code",
   "execution_count": null,
   "metadata": {
    "id": "zsEIUpf6Wv65"
   },
   "outputs": [],
   "source": [
    "#from google.colab import drive\n",
    "#drive.mount('/content/drive')"
   ]
  },
  {
   "cell_type": "code",
   "execution_count": 48,
   "metadata": {
    "id": "FOkPXxDT0kuP"
   },
   "outputs": [],
   "source": [
    "##define accuaracy\n",
    "def accuaracy(y,y_hat_KNN):\n",
    "  return np.mean(y==y_hat_KNN)"
   ]
  },
  {
   "cell_type": "code",
   "execution_count": 49,
   "metadata": {
    "colab": {
     "base_uri": "https://localhost:8080/",
     "height": 167
    },
    "id": "dpVLqeipz11e",
    "outputId": "569499f2-0cb1-42cf-dd7a-f11deba53ed8"
   },
   "outputs": [
    {
     "name": "stderr",
     "output_type": "stream",
     "text": [
      "<ipython-input-48-6d5c3ad9cb3c>:3: DeprecationWarning: elementwise comparison failed; this will raise an error in the future.\n",
      "  return np.mean(y==y_hat_KNN)\n"
     ]
    },
    {
     "data": {
      "text/plain": [
       "0.0"
      ]
     },
     "execution_count": 49,
     "metadata": {},
     "output_type": "execute_result"
    }
   ],
   "source": [
    "accuaracy(y,y_hat_KNN)"
   ]
  },
  {
   "cell_type": "code",
   "execution_count": 80,
   "metadata": {
    "id": "ljC91aJd0uJu"
   },
   "outputs": [
    {
     "data": {
      "text/plain": [
       "(10000, 787)"
      ]
     },
     "execution_count": 80,
     "metadata": {},
     "output_type": "execute_result"
    }
   ],
   "source": [
    "df_test=pd.read_csv('./MNIST_test.csv')\n",
    "df_test.shape"
   ]
  },
  {
   "cell_type": "code",
   "execution_count": 82,
   "metadata": {},
   "outputs": [
    {
     "data": {
      "text/plain": [
       "(10000, 787)"
      ]
     },
     "execution_count": 82,
     "metadata": {},
     "output_type": "execute_result"
    }
   ],
   "source": [
    "X1=df_test.to_numpy()\n",
    "X1.shape"
   ]
  },
  {
   "cell_type": "code",
   "execution_count": 83,
   "metadata": {},
   "outputs": [],
   "source": [
    "y1=X1[:,2]\n"
   ]
  },
  {
   "cell_type": "code",
   "execution_count": 84,
   "metadata": {},
   "outputs": [
    {
     "data": {
      "text/plain": [
       "(10000, 784)"
      ]
     },
     "execution_count": 84,
     "metadata": {},
     "output_type": "execute_result"
    }
   ],
   "source": [
    "X1=X1[:,3:]\n",
    "X1.shape"
   ]
  },
  {
   "cell_type": "code",
   "execution_count": 85,
   "metadata": {},
   "outputs": [],
   "source": [
    "y1_hat_KNN=Knn.predict(X1,5)"
   ]
  },
  {
   "cell_type": "code",
   "execution_count": 86,
   "metadata": {},
   "outputs": [],
   "source": [
    "def accuracy(y1,y1_hat_KNN):\n",
    "    return np.mean(y1==y1_hat_KNN)\n",
    "    "
   ]
  },
  {
   "cell_type": "code",
   "execution_count": 87,
   "metadata": {},
   "outputs": [
    {
     "data": {
      "text/plain": [
       "0.9691"
      ]
     },
     "execution_count": 87,
     "metadata": {},
     "output_type": "execute_result"
    }
   ],
   "source": [
    "accuracy(y1, y1_hat_KNN)"
   ]
  },
  {
   "cell_type": "code",
   "execution_count": 125,
   "metadata": {},
   "outputs": [
    {
     "name": "stdout",
     "output_type": "stream",
     "text": [
      "[[ 974    1    1    0    0    1    2    1    0    0]\n",
      " [   0 1133    2    0    0    0    0    0    0    0]\n",
      " [  11    7  989    2    0    0    2   17    4    0]\n",
      " [   0    2    3  973    1   13    1    7    4    6]\n",
      " [   2    7    0    0  943    0    4    3    0   23]\n",
      " [   4    0    0    9    2  861    6    1    4    5]\n",
      " [   5    3    0    0    3    2  945    0    0    0]\n",
      " [   0   20    4    0    3    0    0  990    0   11]\n",
      " [   7    3    5   12    5   11    5    5  916    5]\n",
      " [   3    5    3    7    7    3    1   11    2  967]]\n"
     ]
    }
   ],
   "source": [
    "from sklearn.metrics import classification_report,confusion_matrix\n",
    "from sklearn.metrics import plot_confusion_matrix\n",
    "\n",
    "# Compute confusion matrix\n",
    "cm=confusion_matrix(y_true=y1, y_pred=y1_hat_KNN)\n"
   ]
  },
  {
   "cell_type": "code",
   "execution_count": 122,
   "metadata": {},
   "outputs": [
    {
     "data": {
      "text/plain": [
       "'\\nom sklearn.metrics import classification_report,confusion_matrix\\nfrom sklearn.metrics import plot_confusion_matrix\\n# Compute confusion matrix\\ncnf_matfusion_matrix(y_true=y1, y_pred=y1_hat_KNN)\\n#p.set_printoptions(precision=2)\\n# Plot normalized confusion matrix\\n#lt.figure()\\nprint(cnf_matrix)\\n'"
      ]
     },
     "execution_count": 122,
     "metadata": {},
     "output_type": "execute_result"
    }
   ],
   "source": [
    "\"\"\"\n",
    "om sklearn.metrics import classification_report,confusion_matrix\n",
    "from sklearn.metrics import plot_confusion_matrix\n",
    "# Compute confusion matrix\n",
    "cnf_matfusion_matrix(y_true=y1, y_pred=y1_hat_KNN)\n",
    "#p.set_printoptions(precision=2)\n",
    "# Plot normalized confusion matrix\n",
    "#lt.figure()\n",
    "print(cnf_matrix)\n",
    "\"\"\""
   ]
  },
  {
   "cell_type": "code",
   "execution_count": 157,
   "metadata": {},
   "outputs": [
    {
     "data": {
      "image/png": "[encoded data removed]",
      "text/plain": [
       "<Figure size 576x576 with 1 Axes>"
      ]
     },
     "metadata": {
      "needs_background": "light"
     },
     "output_type": "display_data"
    }
   ],
   "source": [
    "\n",
    "cm = np.round (cm.astype('float') / cm.sum(axis=1)[:, np.newaxis],2)\n",
    "fig, ax = plt.subplots(figsize=(8,8))\n",
    "plt.imshow(cm, cmap=plt.cm.Pastel1)\n",
    "#plt.ylabel('Actual')\n",
    "#plt.xlabel('Predicted')\n",
    "#plt.show(block=False)\n",
    "for i in range(10):\n",
    "    for j in range(10):\n",
    "        plt.text(j,i, str(cm[i][j]))\n",
    "\n",
    "plt.savefig(\"./ConfusionMatricsTestSetKNN.png\" , dpi=150)\n",
    "plt.show()"
   ]
  },
  {
   "cell_type": "code",
   "execution_count": null,
   "metadata": {},
   "outputs": [],
   "source": []
  }
 ],
 "metadata": {
  "colab": {
   "collapsed_sections": [],
   "name": "MNIST.ipynb",
   "provenance": []
  },
  "kernelspec": {
   "display_name": "Python 3",
   "language": "python",
   "name": "python3"
  },
  "language_info": {
   "codemirror_mode": {
    "name": "ipython",
    "version": 3
   },
   "file_extension": ".py",
   "mimetype": "text/x-python",
   "name": "python",
   "nbconvert_exporter": "python",
   "pygments_lexer": "ipython3",
   "version": "3.8.5"
  }
 },
 "nbformat": 4,
 "nbformat_minor": 4
}
