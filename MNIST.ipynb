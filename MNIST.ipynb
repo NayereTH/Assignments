{
 "cells": [
  {
   "cell_type": "code",
   "execution_count": 371,
   "metadata": {
    "id": "gNiLADw1HaFe"
   },
   "outputs": [],
   "source": [
    "import numpy as np\n",
    "import pandas as pd\n",
    "import matplotlib.pyplot as plt"
   ]
  },
  {
   "cell_type": "code",
   "execution_count": 372,
   "metadata": {
    "id": "nkaZFBBQMWmH"
   },
   "outputs": [],
   "source": [
    "df_train=pd.read_csv(\"C:/Users/Joe/Downloads/MNIST_train.csv\")\n",
    "df_test=pd.read_csv(\"C:/Users/Joe/Downloads/MNIST_test.csv\")\n"
   ]
  },
  {
   "cell_type": "code",
   "execution_count": 373,
   "metadata": {
    "colab": {
     "base_uri": "https://localhost:8080/"
    },
    "id": "pjPxh1r4NIWm",
    "outputId": "b1db664c-f6ba-4222-d0f8-3c84c63865d5"
   },
   "outputs": [
    {
     "data": {
      "text/plain": [
       "(60000, 787)"
      ]
     },
     "execution_count": 373,
     "metadata": {},
     "output_type": "execute_result"
    }
   ],
   "source": [
    "df_train.head()\n",
    "df_train.shape"
   ]
  },
  {
   "cell_type": "code",
   "execution_count": 374,
   "metadata": {},
   "outputs": [
    {
     "data": {
      "text/plain": [
       "(10000, 787)"
      ]
     },
     "execution_count": 374,
     "metadata": {},
     "output_type": "execute_result"
    }
   ],
   "source": [
    "df_test.shape"
   ]
  },
  {
   "cell_type": "code",
   "execution_count": 375,
   "metadata": {
    "colab": {
     "base_uri": "https://localhost:8080/"
    },
    "id": "x-ag-S7JpR1h",
    "outputId": "34f33fd5-10f8-4107-e008-3b3bdfc0fd9f"
   },
   "outputs": [
    {
     "data": {
      "text/plain": [
       "Unnamed: 0    0\n",
       "index         0\n",
       "labels        0\n",
       "0             0\n",
       "1             0\n",
       "             ..\n",
       "779           0\n",
       "780           0\n",
       "781           0\n",
       "782           0\n",
       "783           0\n",
       "Length: 787, dtype: int64"
      ]
     },
     "execution_count": 375,
     "metadata": {},
     "output_type": "execute_result"
    }
   ],
   "source": [
    "df_train.isnull().sum()"
   ]
  },
  {
   "cell_type": "code",
   "execution_count": 376,
   "metadata": {
    "id": "mfCEj8vYpXim"
   },
   "outputs": [],
   "source": [
    "missing_values=[\"NA\",\"n/a\",\"--\",\"\",\"N/A\",\"na\",\"None\",\"none\",\"NONE\",\"n.a.\",\"?\"]\n",
    "df_train = pd.read_csv(\"./MNIST_train.csv\", na_values=missing_values)\n"
   ]
  },
  {
   "cell_type": "code",
   "execution_count": 377,
   "metadata": {
    "colab": {
     "base_uri": "https://localhost:8080/"
    },
    "id": "DZLJumtexpl1",
    "outputId": "7a61ed57-65df-4a55-8f8e-29826625079f"
   },
   "outputs": [
    {
     "data": {
      "text/html": [
       "<div>\n",
       "<style scoped>\n",
       "    .dataframe tbody tr th:only-of-type {\n",
       "        vertical-align: middle;\n",
       "    }\n",
       "\n",
       "    .dataframe tbody tr th {\n",
       "        vertical-align: top;\n",
       "    }\n",
       "\n",
       "    .dataframe thead th {\n",
       "        text-align: right;\n",
       "    }\n",
       "</style>\n",
       "<table border=\"1\" class=\"dataframe\">\n",
       "  <thead>\n",
       "    <tr style=\"text-align: right;\">\n",
       "      <th></th>\n",
       "      <th>Unnamed: 0</th>\n",
       "      <th>index</th>\n",
       "      <th>labels</th>\n",
       "      <th>0</th>\n",
       "      <th>1</th>\n",
       "      <th>2</th>\n",
       "      <th>3</th>\n",
       "      <th>4</th>\n",
       "      <th>5</th>\n",
       "      <th>6</th>\n",
       "      <th>...</th>\n",
       "      <th>774</th>\n",
       "      <th>775</th>\n",
       "      <th>776</th>\n",
       "      <th>777</th>\n",
       "      <th>778</th>\n",
       "      <th>779</th>\n",
       "      <th>780</th>\n",
       "      <th>781</th>\n",
       "      <th>782</th>\n",
       "      <th>783</th>\n",
       "    </tr>\n",
       "  </thead>\n",
       "  <tbody>\n",
       "  </tbody>\n",
       "</table>\n",
       "<p>0 rows × 787 columns</p>\n",
       "</div>"
      ],
      "text/plain": [
       "Empty DataFrame\n",
       "Columns: [Unnamed: 0, index, labels, 0, 1, 2, 3, 4, 5, 6, 7, 8, 9, 10, 11, 12, 13, 14, 15, 16, 17, 18, 19, 20, 21, 22, 23, 24, 25, 26, 27, 28, 29, 30, 31, 32, 33, 34, 35, 36, 37, 38, 39, 40, 41, 42, 43, 44, 45, 46, 47, 48, 49, 50, 51, 52, 53, 54, 55, 56, 57, 58, 59, 60, 61, 62, 63, 64, 65, 66, 67, 68, 69, 70, 71, 72, 73, 74, 75, 76, 77, 78, 79, 80, 81, 82, 83, 84, 85, 86, 87, 88, 89, 90, 91, 92, 93, 94, 95, 96, ...]\n",
       "Index: []\n",
       "\n",
       "[0 rows x 787 columns]"
      ]
     },
     "execution_count": 377,
     "metadata": {},
     "output_type": "execute_result"
    }
   ],
   "source": [
    "df_test[df_test.isnull().any(axis=1)]\n",
    "##"
   ]
  },
  {
   "cell_type": "code",
   "execution_count": 378,
   "metadata": {
    "id": "bHZAGqtKNKQR"
   },
   "outputs": [],
   "source": [
    "X= df_train.to_numpy()\n",
    "y=X[:,2]"
   ]
  },
  {
   "cell_type": "code",
   "execution_count": 379,
   "metadata": {},
   "outputs": [],
   "source": [
    "X_test=df_test.to_numpy()\n",
    "y_test=X_test[:,2]"
   ]
  },
  {
   "cell_type": "code",
   "execution_count": 380,
   "metadata": {},
   "outputs": [],
   "source": [
    "X_test=X_test[:,3:]"
   ]
  },
  {
   "cell_type": "code",
   "execution_count": 381,
   "metadata": {},
   "outputs": [
    {
     "data": {
      "text/plain": [
       "59999"
      ]
     },
     "execution_count": 381,
     "metadata": {},
     "output_type": "execute_result"
    }
   ],
   "source": [
    "X.max()"
   ]
  },
  {
   "cell_type": "code",
   "execution_count": 231,
   "metadata": {
    "colab": {
     "base_uri": "https://localhost:8080/"
    },
    "id": "sVqnBPCIPaPC",
    "outputId": "d6892ff6-01a7-4e76-ffa5-03b5e9608d07"
   },
   "outputs": [
    {
     "data": {
      "text/plain": [
       "(60000, 784)"
      ]
     },
     "execution_count": 231,
     "metadata": {},
     "output_type": "execute_result"
    }
   ],
   "source": [
    "X=X[:,3:]\n",
    "X.shape\n",
    "#y=X[:,2:3]\n",
    "#y=df_train[\"labels\"].to_numpy()\n",
    "#y.shape\n",
    "#print(y)"
   ]
  },
  {
   "cell_type": "code",
   "execution_count": 123,
   "metadata": {
    "colab": {
     "base_uri": "https://localhost:8080/"
    },
    "id": "FpV2B5H1iJgh",
    "outputId": "5d3b8d2e-decb-42ef-f9a9-c4d4dd3ca32e"
   },
   "outputs": [
    {
     "name": "stdout",
     "output_type": "stream",
     "text": [
      "[5 0 4 ... 5 6 8]\n"
     ]
    },
    {
     "data": {
      "text/plain": [
       "(60000,)"
      ]
     },
     "execution_count": 123,
     "metadata": {},
     "output_type": "execute_result"
    }
   ],
   "source": [
    "print(y)\n",
    "y.shape"
   ]
  },
  {
   "cell_type": "code",
   "execution_count": 124,
   "metadata": {
    "colab": {
     "base_uri": "https://localhost:8080/",
     "height": 221
    },
    "id": "Mj7Oq_-ruG3W",
    "outputId": "67cfa6d2-8fa9-470a-a984-5e709139f56d"
   },
   "outputs": [],
   "source": [
    "X= X.reshape((60000, 28, 28))\n",
    "\n",
    "\n",
    "##x_train_reshaped=np.reshape(x_train,(60000, 28, 28))"
   ]
  },
  {
   "cell_type": "code",
   "execution_count": 125,
   "metadata": {
    "colab": {
     "base_uri": "https://localhost:8080/",
     "height": 256
    },
    "id": "LWrrtHflQs4N",
    "outputId": "b84033fe-c967-45d2-c8b4-7103a588a5db"
   },
   "outputs": [
    {
     "data": {
      "text/plain": [
       "<matplotlib.image.AxesImage at 0x135d619da48>"
      ]
     },
     "execution_count": 125,
     "metadata": {},
     "output_type": "execute_result"
    },
    {
     "data": {
      "image/png": "[encoded data removed]",
      "text/plain": [
       "<Figure size 432x288 with 1 Axes>"
      ]
     },
     "metadata": {
      "needs_background": "light"
     },
     "output_type": "display_data"
    }
   ],
   "source": [
    "#img= X[0].reshape((28,28))\n",
    "plt.imshow(X[6])"
   ]
  },
  {
   "cell_type": "code",
   "execution_count": 200,
   "metadata": {},
   "outputs": [],
   "source": [
    "##plotting multiple data\n",
    "\n",
    "def MultiplePlots(B):\n",
    "   \n",
    "    #d=0\n",
    "    for i in range(B):\n",
    "        plt.subplot(330 +1 +i)\n",
    "        plt.imshow(X[i], cmap=plt.get_cmap('gray'))\n",
    "        plt.savefig(\"C:/Users/Joe/Downloads/DataFromTrainSet.png\" , dpi=150)\n",
    "        #d +=1\n",
    "    plt.show()\n",
    "    \n",
    "    "
   ]
  },
  {
   "cell_type": "code",
   "execution_count": 201,
   "metadata": {
    "id": "4RzIyxnso82g"
   },
   "outputs": [
    {
     "data": {
      "image/png": "[encoded data removed]",
      "text/plain": [
       "<Figure size 432x288 with 6 Axes>"
      ]
     },
     "metadata": {
      "needs_background": "light"
     },
     "output_type": "display_data"
    }
   ],
   "source": [
    "MultiplePlots(6)"
   ]
  },
  {
   "cell_type": "code",
   "execution_count": 336,
   "metadata": {
    "id": "Cyk607x5nlZU"
   },
   "outputs": [],
   "source": [
    "##improve method to not recognize weight and height independent variables\n",
    "\n",
    "from scipy.stats import multivariate_normal as mvn ##distribution\n",
    "\n",
    "class GaussNB():\n",
    "  def fit(self,X,y,epsilon=1e-6):\n",
    "    self.likelihoods=dict()\n",
    "    self.priors=dict()\n",
    "    self.K=set(y.astype(int))\n",
    "    for k in self.K:\n",
    "      X_k=X[y==k,:]\n",
    "      self.likelihoods[k]={\"mean\":X_k.mean(axis=0),\"cov\":X_k.var(axis=0)+ epsilon} ###adding eplison for not having devision of zero\n",
    "      self.priors[k]=len(X_k)/len(X) ## =Nk/N , assume p(y)~1\n",
    "\n",
    "  def predict(self,X):\n",
    "    N, D= X.shape\n",
    "    P_hat= np.zeros((N,len(self.K)))\n",
    "\n",
    "    for k, l in self.likelihoods.items(): ###learning skews and mean\n",
    "      P_hat[:,k]=mvn.logpdf(X,l[\"mean\"],l[\"cov\"], allow_singular=True)+np.log(self.priors[k]) ##mvn assume the distributtion is Normal\n",
    "    return P_hat.argmax(axis=1)\n"
   ]
  },
  {
   "cell_type": "code",
   "execution_count": 337,
   "metadata": {
    "id": "TkNmfGf8HN1G"
   },
   "outputs": [],
   "source": [
    "gnb= GaussNB()"
   ]
  },
  {
   "cell_type": "code",
   "execution_count": 338,
   "metadata": {
    "id": "OFWCx_9dHUrR"
   },
   "outputs": [],
   "source": [
    "gnb.fit(X,y)"
   ]
  },
  {
   "cell_type": "code",
   "execution_count": 339,
   "metadata": {
    "id": "fimPjCpmHY6P"
   },
   "outputs": [],
   "source": [
    "##train accuaracy\n",
    "y_hat=gnb.predict(X)"
   ]
  },
  {
   "cell_type": "code",
   "execution_count": 340,
   "metadata": {
    "id": "1RimRXQIX6o1"
   },
   "outputs": [],
   "source": [
    "##define accuaracy\n",
    "def accuaracy(y,y_hat):\n",
    "  return np.mean(y==y_hat)"
   ]
  },
  {
   "cell_type": "code",
   "execution_count": 341,
   "metadata": {
    "colab": {
     "base_uri": "https://localhost:8080/"
    },
    "id": "DOOXlz3tyKxU",
    "outputId": "a0a7c7c0-361b-41b4-8be7-5fb988f6b436"
   },
   "outputs": [
    {
     "data": {
      "text/plain": [
       "0.6497833333333334"
      ]
     },
     "execution_count": 341,
     "metadata": {},
     "output_type": "execute_result"
    }
   ],
   "source": [
    "accuaracy(y,y_hat)"
   ]
  },
  {
   "cell_type": "code",
   "execution_count": null,
   "metadata": {
    "id": "DC_C3DO0yNbg"
   },
   "outputs": [],
   "source": [
    "###epsilon=1e-2,1e-3,1e-4,1e-5,1e-6,1e-7\n",
    "Train_result=0.61,0.59,0.58,0.56,0.65,0.65\n",
    "Test_result=0.65 for e=1e-6"
   ]
  },
  {
   "cell_type": "code",
   "execution_count": 346,
   "metadata": {
    "id": "RYnHVquxUeZp"
   },
   "outputs": [],
   "source": [
    "###we assume to have Normal distributions\n",
    "#New sigma_sub_k:\n",
    "#$\\sigma_k =\\frac\n",
    "class GaussBayes():\n",
    "\n",
    "    \n",
    "  def fit(self ,X,y,epsilon=1e-5):\n",
    "    self.likelihoods =dict()\n",
    "    self.priors=dict()\n",
    "    self.K =set(y.astype(int))\n",
    "  \n",
    "    for k in self.K:\n",
    "      X_k=X[y==k,:]\n",
    "      N_k, D= X_k.shape\n",
    "      mu_k=X_k.mean(axis=0)\n",
    "    ##populate likilood\n",
    "      self.likelihoods[k]={'mean': X_k.mean(axis=0),'cov':(1/(N_k-1))*np.matmul((X_k-mu_k).T, X_k-mu_k)+ epsilon*np.identity(D)}\n",
    "      self.priors[k]=len(X_k)/len(X)\n",
    "\n",
    "  def predict(self,X):\n",
    "\n",
    "    N,D = X.shape\n",
    "    P_hat = np.zeros((N,len(self.K)))\n",
    "    for k, l in self.likelihoods.items():\n",
    "      P_hat[:,k]= mvn.logpdf(X,l[\"mean\"],l[\"cov\"], allow_singular=True) + np.log(self.priors[k])\n",
    "    return P_hat.argmax(axis=1)"
   ]
  },
  {
   "cell_type": "code",
   "execution_count": 347,
   "metadata": {},
   "outputs": [],
   "source": [
    "\n",
    "#for Epsilon in [1e-2,1e-3,1e-4,1e-5,1e-6]:\n",
    "    #gbayes= GaussBayes(Epsilon)\n",
    "    #gbayes.fit(X,y)\n",
    "    #y_hat_GB=gbayes.predict(X)\n",
    "    #Accuracy= np.mean(y==y_hat_GB)\n",
    "    #print(Accuracy)\n",
    "    "
   ]
  },
  {
   "cell_type": "code",
   "execution_count": 348,
   "metadata": {
    "id": "VoTF2fydzNR6"
   },
   "outputs": [],
   "source": [
    "gbayes=GaussBayes()"
   ]
  },
  {
   "cell_type": "code",
   "execution_count": 349,
   "metadata": {
    "id": "34z3m20hzThf"
   },
   "outputs": [],
   "source": [
    "gbayes.fit(X,y)"
   ]
  },
  {
   "cell_type": "code",
   "execution_count": 350,
   "metadata": {
    "id": "i2gksmGZzWAK"
   },
   "outputs": [],
   "source": [
    "y_hat_GB=gbayes.predict(X)"
   ]
  },
  {
   "cell_type": "code",
   "execution_count": 351,
   "metadata": {
    "id": "dv77BTAYzYR5"
   },
   "outputs": [],
   "source": [
    "##define accuaracy\n",
    "def accuaracy(y,y_hat_GB):\n",
    "  return np.mean(y==y_hat_GB)"
   ]
  },
  {
   "cell_type": "code",
   "execution_count": 352,
   "metadata": {
    "colab": {
     "base_uri": "https://localhost:8080/"
    },
    "id": "zyymXTiVzbX_",
    "outputId": "63a0057f-3cc6-4718-a781-a1bb06818cc5"
   },
   "outputs": [
    {
     "data": {
      "text/plain": [
       "0.8384"
      ]
     },
     "execution_count": 352,
     "metadata": {},
     "output_type": "execute_result"
    }
   ],
   "source": [
    "accuaracy(y,y_hat_GB)"
   ]
  },
  {
   "cell_type": "code",
   "execution_count": 367,
   "metadata": {},
   "outputs": [],
   "source": [
    "epsilon=[1e-2,1e-3,1e-4,1e-5,1e-6,1e-7,1e-8]\n",
    "train_result= [0.81,0.78,0.53,0.84,0.84,0.84,0.84]\n",
    "#test_result= 0.81 for e=1e-5"
   ]
  },
  {
   "cell_type": "code",
   "execution_count": 368,
   "metadata": {},
   "outputs": [
    {
     "data": {
      "text/plain": [
       "[<matplotlib.lines.Line2D at 0x135b31f9f48>]"
      ]
     },
     "execution_count": 368,
     "metadata": {},
     "output_type": "execute_result"
    },
    {
     "data": {
      "image/png": "[encoded data removed]",
      "text/plain": [
       "<Figure size 432x288 with 1 Axes>"
      ]
     },
     "metadata": {
      "needs_background": "light"
     },
     "output_type": "display_data"
    }
   ],
   "source": [
    "plt.plot(epsilon,train_result,'b-.')"
   ]
  },
  {
   "cell_type": "code",
   "execution_count": 45,
   "metadata": {
    "colab": {
     "base_uri": "https://localhost:8080/"
    },
    "id": "ZnLDivKgPuCB",
    "outputId": "f4f79890-b1c9-4710-90e8-c6aa2f515364"
   },
   "outputs": [
    {
     "name": "stdout",
     "output_type": "stream",
     "text": [
      "[[  0   0   0   0   0   0   0   0   0   0   0   0   0   0   0   0   0   0\n",
      "    0   0   0   0   0   0   0   0   0   0]\n",
      " [  0   0   0   0   0   0   0   0   0   0   0   0   0   0   0   0   0   0\n",
      "    0   0   0   0   0   0   0   0   0   0]\n",
      " [  0   0   0   0   0   0   0   0   0   0   0   0   3  18  18  18 126 136\n",
      "  175  26 166 255 247 127   0   0   0   0]\n",
      " [  0   0   0   0   0   0   0   0  30  36  94 154 170 253 253 253 253 253\n",
      "  225 172 253 242 195  64   0   0   0   0]\n",
      " [  0   0   0   0   0   0   0  49 238 253 253 253 253 253 253 253 253 251\n",
      "   93  82  82  56  39   0   0   0   0   0]\n",
      " [  0   0   0   0   0   0   0  18 219 253 253 253 253 253 198 182 247 241\n",
      "    0   0   0   0   0   0   0   0   0   0]\n",
      " [  0   0   0   0   0   0   0   0  80 156 107 253 253 205  11   0  43 154\n",
      "    0   0   0   0   0   0   0   0   0   0]\n",
      " [  0   0   0   0   0   0   0   0   0  14   1 154 253  90   0   0   0   0\n",
      "    0   0   0   0   0   0   0   0   0   0]\n",
      " [  0   0   0   0   0   0   0   0   0   0   0 139 253 190   2   0   0   0\n",
      "    0   0   0   0   0   0   0   0   0   0]\n",
      " [  0   0   0   0   0   0   0   0   0   0   0  11 190 253  70   0   0   0\n",
      "    0   0   0   0   0   0   0   0   0   0]\n",
      " [  0   0   0   0   0   0   0   0   0   0   0   0  35 241 225 160 108   1\n",
      "    0   0   0   0   0   0   0   0   0   0]\n",
      " [  0   0   0   0   0   0   0   0   0   0   0   0   0  81 240 253 253 119\n",
      "   25   0   0   0   0   0   0   0   0   0]\n",
      " [  0   0   0   0   0   0   0   0   0   0   0   0   0   0  45 186 253 253\n",
      "  150  27   0   0   0   0   0   0   0   0]\n",
      " [  0   0   0   0   0   0   0   0   0   0   0   0   0   0   0  16  93 252\n",
      "  253 187   0   0   0   0   0   0   0   0]\n",
      " [  0   0   0   0   0   0   0   0   0   0   0   0   0   0   0   0   0 249\n",
      "  253 249  64   0   0   0   0   0   0   0]\n",
      " [  0   0   0   0   0   0   0   0   0   0   0   0   0   0  46 130 183 253\n",
      "  253 207   2   0   0   0   0   0   0   0]\n",
      " [  0   0   0   0   0   0   0   0   0   0   0   0  39 148 229 253 253 253\n",
      "  250 182   0   0   0   0   0   0   0   0]\n",
      " [  0   0   0   0   0   0   0   0   0   0  24 114 221 253 253 253 253 201\n",
      "   78   0   0   0   0   0   0   0   0   0]\n",
      " [  0   0   0   0   0   0   0   0  23  66 213 253 253 253 253 198  81   2\n",
      "    0   0   0   0   0   0   0   0   0   0]\n",
      " [  0   0   0   0   0   0  18 171 219 253 253 253 253 195  80   9   0   0\n",
      "    0   0   0   0   0   0   0   0   0   0]\n",
      " [  0   0   0   0  55 172 226 253 253 253 253 244 133  11   0   0   0   0\n",
      "    0   0   0   0   0   0   0   0   0   0]\n",
      " [  0   0   0   0 136 253 253 253 212 135 132  16   0   0   0   0   0   0\n",
      "    0   0   0   0   0   0   0   0   0   0]\n",
      " [  0   0   0   0   0   0   0   0   0   0   0   0   0   0   0   0   0   0\n",
      "    0   0   0   0   0   0   0   0   0   0]\n",
      " [  0   0   0   0   0   0   0   0   0   0   0   0   0   0   0   0   0   0\n",
      "    0   0   0   0   0   0   0   0   0   0]\n",
      " [  0   0   0   0   0   0   0   0   0   0   0   0   0   0   0   0   0   0\n",
      "    0   0   0   0   0   0   0   0   0   0]]\n"
     ]
    }
   ],
   "source": [
    "####Classifiers\n",
    "print(X[0])"
   ]
  },
  {
   "cell_type": "code",
   "execution_count": 70,
   "metadata": {
    "id": "N4zY7E1Mzd1m"
   },
   "outputs": [],
   "source": [
    "##build classifier()\n",
    "class KNNClassifier():\n",
    "    def fit(self,X,y):\n",
    "        self.X=X\n",
    "        self.y=y\n",
    "        \n",
    "    def predict(self, X, K, epsilon=1e-3):\n",
    "        N=len(X)\n",
    "        y_hat= np.zeros(N)\n",
    "        ## find distance and measure distance of each points\n",
    "        for i in range(N):\n",
    "            dist2=np.sum((self.X-X[i])**2,axis=1)\n",
    "            idxt =np.argsort(dist2)[:K]\n",
    "            gamma_k=1/(np.sqrt(dist2[idxt])+ epsilon)\n",
    "            y_hat[i] = np.bincount(self.y[idxt], weights=gamma_k).argmax()\n",
    "            \n",
    "        return y_hat"
   ]
  },
  {
   "cell_type": "code",
   "execution_count": 71,
   "metadata": {
    "id": "xnw8OCZezlpg"
   },
   "outputs": [],
   "source": [
    "Knn= KNNClassifier()\n",
    "Knn.fit(X,y)"
   ]
  },
  {
   "cell_type": "code",
   "execution_count": 72,
   "metadata": {
    "colab": {
     "base_uri": "https://localhost:8080/",
     "height": 352
    },
    "id": "YWhTKiWJzooU",
    "outputId": "ec8ba1b7-f7ad-4a83-b4a2-8108db4c6dd1"
   },
   "outputs": [],
   "source": [
    "y_hat_KNN=Knn.predict(X,5)"
   ]
  },
  {
   "cell_type": "code",
   "execution_count": null,
   "metadata": {
    "id": "zsEIUpf6Wv65"
   },
   "outputs": [],
   "source": [
    "from google.colab import drive\n",
    "drive.mount('/content/drive')"
   ]
  },
  {
   "cell_type": "code",
   "execution_count": 1,
   "metadata": {
    "id": "FOkPXxDT0kuP"
   },
   "outputs": [],
   "source": [
    "##define accuaracy\n",
    "def accuaracy(y,y_hat_KNN):\n",
    "  return np.mean(y==y_hat_KNN)"
   ]
  },
  {
   "cell_type": "code",
   "execution_count": null,
   "metadata": {},
   "outputs": [],
   "source": [
    "accuaracy(y,y_hat_KNN)"
   ]
  },
  {
   "cell_type": "code",
   "execution_count": 369,
   "metadata": {
    "id": "ljC91aJd0uJu"
   },
   "outputs": [],
   "source": [
    "from sklearn.metrics import classification_report,confusion_matrix\n",
    "from sklearn.metrics import plot_confusion_matrix\n",
    "\n",
    "# Compute confusion matrix\n",
    "cm=confusion_matrix(y_true=y1, y_pred=y1_hat_KNN)\n"
   ]
  },
  {
   "cell_type": "code",
   "execution_count": null,
   "metadata": {},
   "outputs": [],
   "source": [
    "\n",
    "cm = np.round (cm.astype('float') / cm.sum(axis=1)[:, np.newaxis],2)\n",
    "fig, ax = plt.subplots(figsize=(8,8))\n",
    "plt.imshow(cm, cmap=plt.cm.Pastel1)\n",
    "#plt.ylabel('Actual')\n",
    "#plt.xlabel('Predicted')\n",
    "#plt.show(block=False)\n",
    "for i in range(10):\n",
    "    for j in range(10):\n",
    "        plt.text(j,i, str(cm[i][j]))\n",
    "\n",
    "plt.savefig(\"./ConfusionMatricsTestSetKNN.png\" , dpi=150)\n",
    "plt.show()"
   ]
  }
 ],
 "metadata": {
  "colab": {
   "collapsed_sections": [],
   "name": "MNIST.ipynb",
   "provenance": []
  },
  "kernelspec": {
   "display_name": "Python 3",
   "language": "python",
   "name": "python3"
  },
  "language_info": {
   "codemirror_mode": {
    "name": "ipython",
    "version": 3
   },
   "file_extension": ".py",
   "mimetype": "text/x-python",
   "name": "python",
   "nbconvert_exporter": "python",
   "pygments_lexer": "ipython3",
   "version": "3.7.4"
  }
 },
 "nbformat": 4,
 "nbformat_minor": 1
}
